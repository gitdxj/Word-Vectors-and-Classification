{
 "cells": [
  {
   "cell_type": "markdown",
   "metadata": {},
   "source": [
    "# Assignment 3 : \"Word Vectors and Classification\"\n",
    "Due: Monday 2pm, Feburary 1, 2021, via Moodle"
   ]
  },
  {
   "cell_type": "markdown",
   "metadata": {},
   "source": [
    "### Submission guidelines\n",
    "\n",
    "- Solutions need to be uploaded as a single Jupyter notebook. You will find many provided codes in the notebook, your task is to fill in the missing cells.\n",
    "- For the written solution, use LaTeX in markdown inside the same notebook. Do *not* hand in a separate file for it.\n",
    "- Download the .zip file containing the dataset but do *not* upload it with your solution.\n",
    "- It is sufficient if one person per group uploads the solution to Moodle, but make sure that the names of\n",
    "all team members are given in the notebook."
   ]
  },
  {
   "cell_type": "markdown",
   "metadata": {},
   "source": [
    "--------"
   ]
  },
  {
   "cell_type": "markdown",
   "metadata": {},
   "source": [
    "## Task 1: F.R.I.E.N.D.S and  Word2Vec ( 3+ 2+ 3 = 8 points) "
   ]
  },
  {
   "cell_type": "markdown",
   "metadata": {},
   "source": [
    "Friends is an American television sitcom, created by David Crane and Marta Kauffman. In this assignment we will use the transcripts from the show to train a Word2Vec model using the Gensim library."
   ]
  },
  {
   "cell_type": "markdown",
   "metadata": {},
   "source": [
    "### Subtask 1: Pre-processing \n",
    "We start by loading and cleaning the data. Download the dataset for this assignment and load the `friends_quotes.csv` using pandas. The dataset is from Kaggle (https://www.kaggle.com/ryanstonebraker/friends-transcript) and is created for building a classifier that could determine which friend from the Friend's TV Show would be most likely to say a quote. The column `quote` contains the line from the movie and `author` is the one who spoke it. Since these are the only two columns we need, we remove the rest and only keep these two. "
   ]
  },
  {
   "cell_type": "code",
   "execution_count": 1,
   "metadata": {},
   "outputs": [],
   "source": [
    "import re  \n",
    "import pandas as pd  \n",
    "from collections import defaultdict  \n",
    "import spacy \n",
    "import logging  # Setting up the loggings to monitor gensim\n",
    "logging.basicConfig(format=\"%(levelname)s - %(asctime)s: %(message)s\", datefmt= '%H:%M:%S', level=logging.INFO)"
   ]
  },
  {
   "cell_type": "code",
   "execution_count": 2,
   "metadata": {},
   "outputs": [
    {
     "data": {
      "text/html": [
       "<div>\n",
       "<style scoped>\n",
       "    .dataframe tbody tr th:only-of-type {\n",
       "        vertical-align: middle;\n",
       "    }\n",
       "\n",
       "    .dataframe tbody tr th {\n",
       "        vertical-align: top;\n",
       "    }\n",
       "\n",
       "    .dataframe thead th {\n",
       "        text-align: right;\n",
       "    }\n",
       "</style>\n",
       "<table border=\"1\" class=\"dataframe\">\n",
       "  <thead>\n",
       "    <tr style=\"text-align: right;\">\n",
       "      <th></th>\n",
       "      <th>author</th>\n",
       "      <th>quote</th>\n",
       "    </tr>\n",
       "  </thead>\n",
       "  <tbody>\n",
       "    <tr>\n",
       "      <th>0</th>\n",
       "      <td>Monica</td>\n",
       "      <td>There's nothing to tell! He's just some guy I ...</td>\n",
       "    </tr>\n",
       "    <tr>\n",
       "      <th>1</th>\n",
       "      <td>Joey</td>\n",
       "      <td>C'mon, you're going out with the guy! There's ...</td>\n",
       "    </tr>\n",
       "    <tr>\n",
       "      <th>2</th>\n",
       "      <td>Chandler</td>\n",
       "      <td>All right Joey, be nice. So does he have a hum...</td>\n",
       "    </tr>\n",
       "    <tr>\n",
       "      <th>3</th>\n",
       "      <td>Phoebe</td>\n",
       "      <td>Wait, does he eat chalk?</td>\n",
       "    </tr>\n",
       "    <tr>\n",
       "      <th>4</th>\n",
       "      <td>Phoebe</td>\n",
       "      <td>Just, 'cause, I don't want her to go through w...</td>\n",
       "    </tr>\n",
       "  </tbody>\n",
       "</table>\n",
       "</div>"
      ],
      "text/plain": [
       "     author                                              quote\n",
       "0    Monica  There's nothing to tell! He's just some guy I ...\n",
       "1      Joey  C'mon, you're going out with the guy! There's ...\n",
       "2  Chandler  All right Joey, be nice. So does he have a hum...\n",
       "3    Phoebe                           Wait, does he eat chalk?\n",
       "4    Phoebe  Just, 'cause, I don't want her to go through w..."
      ]
     },
     "execution_count": 2,
     "metadata": {},
     "output_type": "execute_result"
    }
   ],
   "source": [
    "df = pd.read_csv(\"ITA_assignment3_data/friends_quotes.csv\")### Load the data #### \n",
    "### filter out columns ### \n",
    "df = df[['author','quote']]\n",
    "df.head()"
   ]
  },
  {
   "cell_type": "markdown",
   "metadata": {},
   "source": [
    "Fortunately, there is no missing data, so we do not need to worry about that. "
   ]
  },
  {
   "cell_type": "code",
   "execution_count": 3,
   "metadata": {},
   "outputs": [
    {
     "data": {
      "text/plain": [
       "author    0\n",
       "quote     0\n",
       "dtype: int64"
      ]
     },
     "execution_count": 3,
     "metadata": {},
     "output_type": "execute_result"
    }
   ],
   "source": [
    "df.isnull().sum() # check for missing data"
   ]
  },
  {
   "cell_type": "markdown",
   "metadata": {},
   "source": [
    "use SpaCy similar to assignment 2 to pre-process the text, perform the following steps: \n",
    "- lowercase the words \n",
    "- remove the stopwords and single characters\n",
    "- use regex to remove non-alphabetic characters (anything that is not a number or alphabet including punctuations), in other words only keep \"a\" to \"z\" and digits. \n",
    "- remove lines that have less than 3 words, since they cannot contribute much to the training process.\n",
    "\n",
    "Please do not add additional steps on your own or additional cleaning, we want to create comparable results. "
   ]
  },
  {
   "cell_type": "code",
   "execution_count": 4,
   "metadata": {},
   "outputs": [],
   "source": [
    "nlp = spacy.load(\"en_core_web_sm\", disable=[\"tagger\", \"parser\",\"ner\"])\n",
    "stopwords = spacy.lang.en.stop_words.STOP_WORDS # only use these stop words, do not add your own! \n",
    "df[\"quote\"] = df['quote'].apply(lambda x: re.sub(\"[^a-zA-Z0-9 ]\", \"\", x).lower())# lowercase and remove non-alphabetic characters\n",
    "quotes =[] # to save all the lines \n",
    "for quote in df['quote'].to_list():\n",
    "    tmp_token_list = []\n",
    "    for token in nlp(quote):\n",
    "        if token.text not in stopwords and len(token.text)>1:  # remove stopwords and single characters\n",
    "            tmp_token_list.append(token.text)\n",
    "    if len(tmp_token_list)>=3:  # remove lines that have less than 3 words\n",
    "        quotes.append(\" \".join(tmp_token_list))\n",
    "### Your Code ### \n"
   ]
  },
  {
   "cell_type": "markdown",
   "metadata": {},
   "source": [
    "The next step is to build the vocabulary of the words and word combinations we want to learn representations from. We choose a subset of the most frequent words and bigrams to represent our corpus.\n",
    "- use the Gensim Phrases package to automatically detect common phrases (bigrams) from a list of lines from the previous step (`min_count=10`). Now words like New_York will be considered as one entity and character names like joey_tribbiani will be recognized.\n",
    "- create a list of words/bigrams with their frequencies and choose the top 15.000 words for the vocabulary, to keep the computation time-limited and choose the most important words."
   ]
  },
  {
   "cell_type": "code",
   "execution_count": 5,
   "metadata": {},
   "outputs": [
    {
     "name": "stderr",
     "output_type": "stream",
     "text": [
      "INFO - 18:38:44: collecting all words and their counts\n",
      "INFO - 18:38:44: PROGRESS: at sentence #0, processed 0 words and 0 word types\n",
      "INFO - 18:38:44: PROGRESS: at sentence #10000, processed 73149 words and 55061 word types\n",
      "INFO - 18:38:45: PROGRESS: at sentence #20000, processed 148223 words and 98749 word types\n",
      "INFO - 18:38:45: PROGRESS: at sentence #30000, processed 222518 words and 138006 word types\n",
      "INFO - 18:38:45: collected 166704 word types from a corpus of 279019 words (unigram + bigrams) and 37784 sentences\n",
      "INFO - 18:38:45: using 166704 counts as vocab in Phrases<0 vocab, min_count=10, threshold=1, max_vocab_size=40000000>\n",
      "INFO - 18:38:46: adding document #0 to Dictionary(0 unique tokens: [])\n",
      "INFO - 18:38:46: adding document #10000 to Dictionary(9568 unique tokens: ['guy', 'tell', 'work', 'cmon', 'going']...)\n",
      "INFO - 18:38:46: adding document #20000 to Dictionary(13557 unique tokens: ['guy', 'tell', 'work', 'cmon', 'going']...)\n",
      "INFO - 18:38:47: adding document #30000 to Dictionary(16784 unique tokens: ['guy', 'tell', 'work', 'cmon', 'going']...)\n",
      "INFO - 18:38:47: built Dictionary(19156 unique tokens: ['guy', 'tell', 'work', 'cmon', 'going']...) from 37784 documents (total 254986 corpus positions)\n",
      "INFO - 18:38:47: discarding 4156 tokens: [('polls', 1), ('youready', 1), ('shouldntso', 1), ('aphrodisiac', 1), ('communicable', 1), ('diseases', 1), ('1979', 1), ('cous', 1), ('justtonight', 1), ('couchwhoa', 1)]...\n",
      "INFO - 18:38:47: keeping 15000 tokens which were in no less than 0 and no more than 37784 (=100.0%) documents\n",
      "INFO - 18:38:47: resulting dictionary: Dictionary(15000 unique tokens: ['guy', 'tell', 'work', 'cmon', 'going']...)\n"
     ]
    }
   ],
   "source": [
    "from gensim.models.phrases import Phrases, Phraser\n",
    "sent = [quote.split() for quote in quotes]#list of all words# \n",
    "phrases = Phrases(sent, min_count=10, threshold=1)#define the phraser for bi-gram creation# \n",
    "new_lines = [phrases[line] for line in sent]#transform the lines# \n",
    "\n",
    "# ### find the top words for the vocabulary###\n",
    "\n",
    "from gensim.corpora import Dictionary\n",
    "vocab = Dictionary(new_lines).filter_extremes(no_below=0, no_above=1, keep_n=15000)\n",
    "\n",
    "# vocab=###top words ###\n"
   ]
  },
  {
   "cell_type": "markdown",
   "metadata": {},
   "source": [
    "### Subtask 2: Training The Model\n"
   ]
  },
  {
   "cell_type": "markdown",
   "metadata": {},
   "source": [
    "Use Gensim the implementation of Word2Vec to train a model on the scripts. The training can be divided into 3 stages:\n",
    "\n",
    "\n",
    "1) Set up your model with parameters, define your parameters in such a way that the following conditions are satisfied:\n",
    " - ignores all words that have a total absolute frequency less than 2.\n",
    " - dimensions of the embeddings: 100 \n",
    " - initial learning rate of 0.03 \n",
    " - 20 negative samples \n",
    " - window size 3 \n",
    " - learning rate in the training will decrease as you apply more and more updates. Most of the time when starting with gradient descent the initial steps can be larger, and as we get close to the local minima it is best to use smaller steps to avoid jumping over the local minima. This adjustment is done internally using a learning rate scheduler. Make sure that the smallest learning rate does not go below 0.0001.\n",
    " - set the threshold for configuring which higher-frequency words are randomly down-sampled to 6e-5. This parameter forces the sampling to choose the very frequent words less often in the sampling.\n",
    " - set the hashfunction of the word2vec to the given function.\n",
    " - train on a single worker to make sure you get the same result as ours."
   ]
  },
  {
   "cell_type": "code",
   "execution_count": 6,
   "metadata": {},
   "outputs": [],
   "source": [
    "from gensim.models import Word2Vec\n",
    "def hash(astring):\n",
    "    return ord(astring[0])"
   ]
  },
  {
   "cell_type": "code",
   "execution_count": 9,
   "metadata": {},
   "outputs": [],
   "source": [
    "# num_workers = 1\n",
    "# num_negative = 20\n",
    "# num_features = 100\n",
    "# min_word_count = 2\n",
    "# window_size = 3\n",
    "# subsampling = 6e-5\n",
    "# alpha = 0.03\n",
    "# min_alpha= 0.0001\n",
    "# hashfunc = hash\n",
    "# epochs = 100\n",
    "\n",
    "\n",
    "w2v = Word2Vec(\n",
    "    workers = 1,\n",
    "    negative = 20,\n",
    "    size = 100,\n",
    "    min_count = 2,\n",
    "    window = 3,\n",
    "    sample = 6e-5,\n",
    "    alpha = 0.03,\n",
    "    min_alpha = 0.0001,\n",
    "    hashfxn = hash,\n",
    "    iter = 100\n",
    ")### your code ### "
   ]
  },
  {
   "cell_type": "markdown",
   "metadata": {},
   "source": [
    "2) before training, Word2Vec requires us to build the vocabulary table by filtering out the unique words and doing some basic counts on them.\n",
    "If you look at the logs you can see the effect of `min_count` and `sample` on the word corpus. Use the `build_vocab` function to process the data."
   ]
  },
  {
   "cell_type": "code",
   "execution_count": 10,
   "metadata": {},
   "outputs": [
    {
     "name": "stderr",
     "output_type": "stream",
     "text": [
      "INFO - 18:40:24: collecting all words and their counts\n",
      "INFO - 18:40:24: PROGRESS: at sentence #0, processed 0 words, keeping 0 word types\n",
      "INFO - 18:40:24: PROGRESS: at sentence #10000, processed 73149 words, keeping 8998 word types\n",
      "INFO - 18:40:24: PROGRESS: at sentence #20000, processed 148223 words, keeping 12946 word types\n",
      "INFO - 18:40:24: PROGRESS: at sentence #30000, processed 222518 words, keeping 16166 word types\n",
      "INFO - 18:40:24: collected 18532 word types from a corpus of 279019 raw words and 37784 sentences\n",
      "INFO - 18:40:24: Loading a fresh vocabulary\n",
      "INFO - 18:40:24: effective_min_count=2 retains 9508 unique words (51% of original 18532, drops 9024)\n",
      "INFO - 18:40:24: effective_min_count=2 leaves 269995 word corpus (96% of original 279019, drops 9024)\n",
      "INFO - 18:40:24: deleting the raw counts dictionary of 18532 items\n",
      "INFO - 18:40:24: sample=6e-05 downsamples 901 most-common words\n",
      "INFO - 18:40:24: downsampling leaves estimated 121073 word corpus (44.8% of prior 269995)\n",
      "INFO - 18:40:24: estimated required memory for 9508 words and 100 dimensions: 12360400 bytes\n",
      "INFO - 18:40:24: resetting layer weights\n"
     ]
    }
   ],
   "source": [
    "w2v.build_vocab(sent)### your code ### "
   ]
  },
  {
   "cell_type": "markdown",
   "metadata": {},
   "source": [
    "3) Finally, we get to train the model. Train the model for 100 epochs. This will take a while. As we do not plan to train the model any further, we call `init_sims()`, which will make the model much more memory-efficient by precomputing L2-norms of word weight vectors for further analysis. "
   ]
  },
  {
   "cell_type": "code",
   "execution_count": 14,
   "metadata": {},
   "outputs": [
    {
     "name": "stderr",
     "output_type": "stream",
     "text": [
      "INFO - 18:44:05: training model with 1 workers on 9508 vocabulary and 100 features, using sg=0 hs=0 sample=6e-05 negative=20 window=3\n",
      "INFO - 18:44:05: worker thread finished; awaiting finish of 0 more threads\n",
      "INFO - 18:44:05: EPOCH - 1 : training on 279019 raw words (120929 effective words) took 0.6s, 199153 effective words/s\n",
      "INFO - 18:44:06: worker thread finished; awaiting finish of 0 more threads\n",
      "INFO - 18:44:06: EPOCH - 2 : training on 279019 raw words (121104 effective words) took 0.6s, 205010 effective words/s\n",
      "INFO - 18:44:07: worker thread finished; awaiting finish of 0 more threads\n",
      "INFO - 18:44:07: EPOCH - 3 : training on 279019 raw words (121419 effective words) took 0.6s, 194185 effective words/s\n",
      "INFO - 18:44:07: worker thread finished; awaiting finish of 0 more threads\n",
      "INFO - 18:44:07: EPOCH - 4 : training on 279019 raw words (120838 effective words) took 0.6s, 200748 effective words/s\n",
      "INFO - 18:44:08: worker thread finished; awaiting finish of 0 more threads\n",
      "INFO - 18:44:08: EPOCH - 5 : training on 279019 raw words (121050 effective words) took 0.6s, 208402 effective words/s\n",
      "INFO - 18:44:08: worker thread finished; awaiting finish of 0 more threads\n",
      "INFO - 18:44:08: EPOCH - 6 : training on 279019 raw words (121194 effective words) took 0.6s, 192957 effective words/s\n",
      "INFO - 18:44:09: worker thread finished; awaiting finish of 0 more threads\n",
      "INFO - 18:44:09: EPOCH - 7 : training on 279019 raw words (120971 effective words) took 0.7s, 184009 effective words/s\n",
      "INFO - 18:44:10: worker thread finished; awaiting finish of 0 more threads\n",
      "INFO - 18:44:10: EPOCH - 8 : training on 279019 raw words (121033 effective words) took 0.6s, 204702 effective words/s\n",
      "INFO - 18:44:10: worker thread finished; awaiting finish of 0 more threads\n",
      "INFO - 18:44:10: EPOCH - 9 : training on 279019 raw words (120999 effective words) took 0.6s, 206557 effective words/s\n",
      "INFO - 18:44:11: worker thread finished; awaiting finish of 0 more threads\n",
      "INFO - 18:44:11: EPOCH - 10 : training on 279019 raw words (121303 effective words) took 0.6s, 208900 effective words/s\n",
      "INFO - 18:44:11: worker thread finished; awaiting finish of 0 more threads\n",
      "INFO - 18:44:11: EPOCH - 11 : training on 279019 raw words (121063 effective words) took 0.7s, 186048 effective words/s\n",
      "INFO - 18:44:12: worker thread finished; awaiting finish of 0 more threads\n",
      "INFO - 18:44:12: EPOCH - 12 : training on 279019 raw words (121254 effective words) took 0.6s, 200566 effective words/s\n",
      "INFO - 18:44:13: worker thread finished; awaiting finish of 0 more threads\n",
      "INFO - 18:44:13: EPOCH - 13 : training on 279019 raw words (121169 effective words) took 0.6s, 206498 effective words/s\n",
      "INFO - 18:44:13: worker thread finished; awaiting finish of 0 more threads\n",
      "INFO - 18:44:13: EPOCH - 14 : training on 279019 raw words (120954 effective words) took 0.6s, 195320 effective words/s\n",
      "INFO - 18:44:14: worker thread finished; awaiting finish of 0 more threads\n",
      "INFO - 18:44:14: EPOCH - 15 : training on 279019 raw words (121000 effective words) took 0.7s, 182950 effective words/s\n",
      "INFO - 18:44:15: worker thread finished; awaiting finish of 0 more threads\n",
      "INFO - 18:44:15: EPOCH - 16 : training on 279019 raw words (121085 effective words) took 0.6s, 186972 effective words/s\n",
      "INFO - 18:44:15: worker thread finished; awaiting finish of 0 more threads\n",
      "INFO - 18:44:15: EPOCH - 17 : training on 279019 raw words (121096 effective words) took 0.7s, 176247 effective words/s\n",
      "INFO - 18:44:16: worker thread finished; awaiting finish of 0 more threads\n",
      "INFO - 18:44:16: EPOCH - 18 : training on 279019 raw words (121237 effective words) took 0.7s, 173571 effective words/s\n",
      "INFO - 18:44:17: worker thread finished; awaiting finish of 0 more threads\n",
      "INFO - 18:44:17: EPOCH - 19 : training on 279019 raw words (121209 effective words) took 0.6s, 188994 effective words/s\n",
      "INFO - 18:44:17: worker thread finished; awaiting finish of 0 more threads\n",
      "INFO - 18:44:17: EPOCH - 20 : training on 279019 raw words (120915 effective words) took 0.7s, 185869 effective words/s\n",
      "INFO - 18:44:18: worker thread finished; awaiting finish of 0 more threads\n",
      "INFO - 18:44:18: EPOCH - 21 : training on 279019 raw words (121024 effective words) took 0.7s, 183450 effective words/s\n",
      "INFO - 18:44:19: worker thread finished; awaiting finish of 0 more threads\n",
      "INFO - 18:44:19: EPOCH - 22 : training on 279019 raw words (120969 effective words) took 0.6s, 186820 effective words/s\n",
      "INFO - 18:44:19: worker thread finished; awaiting finish of 0 more threads\n",
      "INFO - 18:44:19: EPOCH - 23 : training on 279019 raw words (121029 effective words) took 0.6s, 208061 effective words/s\n",
      "INFO - 18:44:20: worker thread finished; awaiting finish of 0 more threads\n",
      "INFO - 18:44:20: EPOCH - 24 : training on 279019 raw words (120909 effective words) took 0.6s, 205156 effective words/s\n",
      "INFO - 18:44:20: worker thread finished; awaiting finish of 0 more threads\n",
      "INFO - 18:44:20: EPOCH - 25 : training on 279019 raw words (120920 effective words) took 0.6s, 207755 effective words/s\n",
      "INFO - 18:44:21: worker thread finished; awaiting finish of 0 more threads\n",
      "INFO - 18:44:21: EPOCH - 26 : training on 279019 raw words (120780 effective words) took 0.6s, 207124 effective words/s\n",
      "INFO - 18:44:22: worker thread finished; awaiting finish of 0 more threads\n",
      "INFO - 18:44:22: EPOCH - 27 : training on 279019 raw words (120906 effective words) took 0.6s, 204516 effective words/s\n",
      "INFO - 18:44:22: worker thread finished; awaiting finish of 0 more threads\n",
      "INFO - 18:44:22: EPOCH - 28 : training on 279019 raw words (121016 effective words) took 0.6s, 201252 effective words/s\n",
      "INFO - 18:44:23: worker thread finished; awaiting finish of 0 more threads\n",
      "INFO - 18:44:23: EPOCH - 29 : training on 279019 raw words (121321 effective words) took 0.6s, 208803 effective words/s\n",
      "INFO - 18:44:23: worker thread finished; awaiting finish of 0 more threads\n",
      "INFO - 18:44:23: EPOCH - 30 : training on 279019 raw words (120599 effective words) took 0.6s, 203621 effective words/s\n",
      "INFO - 18:44:24: worker thread finished; awaiting finish of 0 more threads\n",
      "INFO - 18:44:24: EPOCH - 31 : training on 279019 raw words (120965 effective words) took 0.6s, 203084 effective words/s\n",
      "INFO - 18:44:25: worker thread finished; awaiting finish of 0 more threads\n",
      "INFO - 18:44:25: EPOCH - 32 : training on 279019 raw words (121052 effective words) took 0.6s, 206500 effective words/s\n",
      "INFO - 18:44:25: worker thread finished; awaiting finish of 0 more threads\n",
      "INFO - 18:44:25: EPOCH - 33 : training on 279019 raw words (120834 effective words) took 0.6s, 207046 effective words/s\n",
      "INFO - 18:44:26: worker thread finished; awaiting finish of 0 more threads\n",
      "INFO - 18:44:26: EPOCH - 34 : training on 279019 raw words (121031 effective words) took 0.6s, 207848 effective words/s\n",
      "INFO - 18:44:26: worker thread finished; awaiting finish of 0 more threads\n",
      "INFO - 18:44:26: EPOCH - 35 : training on 279019 raw words (121001 effective words) took 0.6s, 207214 effective words/s\n",
      "INFO - 18:44:27: worker thread finished; awaiting finish of 0 more threads\n",
      "INFO - 18:44:27: EPOCH - 36 : training on 279019 raw words (121234 effective words) took 0.6s, 199337 effective words/s\n",
      "INFO - 18:44:28: worker thread finished; awaiting finish of 0 more threads\n",
      "INFO - 18:44:28: EPOCH - 37 : training on 279019 raw words (121224 effective words) took 0.6s, 204921 effective words/s\n",
      "INFO - 18:44:28: worker thread finished; awaiting finish of 0 more threads\n",
      "INFO - 18:44:28: EPOCH - 38 : training on 279019 raw words (120986 effective words) took 0.6s, 204521 effective words/s\n",
      "INFO - 18:44:29: worker thread finished; awaiting finish of 0 more threads\n",
      "INFO - 18:44:29: EPOCH - 39 : training on 279019 raw words (120965 effective words) took 0.6s, 201085 effective words/s\n",
      "INFO - 18:44:29: worker thread finished; awaiting finish of 0 more threads\n",
      "INFO - 18:44:29: EPOCH - 40 : training on 279019 raw words (120929 effective words) took 0.6s, 204684 effective words/s\n",
      "INFO - 18:44:30: worker thread finished; awaiting finish of 0 more threads\n",
      "INFO - 18:44:30: EPOCH - 41 : training on 279019 raw words (120932 effective words) took 0.6s, 208078 effective words/s\n",
      "INFO - 18:44:31: worker thread finished; awaiting finish of 0 more threads\n"
     ]
    },
    {
     "name": "stderr",
     "output_type": "stream",
     "text": [
      "INFO - 18:44:31: EPOCH - 42 : training on 279019 raw words (121382 effective words) took 0.6s, 203384 effective words/s\n",
      "INFO - 18:44:31: worker thread finished; awaiting finish of 0 more threads\n",
      "INFO - 18:44:31: EPOCH - 43 : training on 279019 raw words (120794 effective words) took 0.6s, 203232 effective words/s\n",
      "INFO - 18:44:32: worker thread finished; awaiting finish of 0 more threads\n",
      "INFO - 18:44:32: EPOCH - 44 : training on 279019 raw words (121116 effective words) took 0.6s, 193624 effective words/s\n",
      "INFO - 18:44:32: worker thread finished; awaiting finish of 0 more threads\n",
      "INFO - 18:44:32: EPOCH - 45 : training on 279019 raw words (120982 effective words) took 0.6s, 206627 effective words/s\n",
      "INFO - 18:44:33: worker thread finished; awaiting finish of 0 more threads\n",
      "INFO - 18:44:33: EPOCH - 46 : training on 279019 raw words (121428 effective words) took 0.6s, 196294 effective words/s\n",
      "INFO - 18:44:34: worker thread finished; awaiting finish of 0 more threads\n",
      "INFO - 18:44:34: EPOCH - 47 : training on 279019 raw words (121203 effective words) took 0.6s, 199436 effective words/s\n",
      "INFO - 18:44:34: worker thread finished; awaiting finish of 0 more threads\n",
      "INFO - 18:44:34: EPOCH - 48 : training on 279019 raw words (121264 effective words) took 0.6s, 199299 effective words/s\n",
      "INFO - 18:44:35: worker thread finished; awaiting finish of 0 more threads\n",
      "INFO - 18:44:35: EPOCH - 49 : training on 279019 raw words (121384 effective words) took 0.6s, 209484 effective words/s\n",
      "INFO - 18:44:35: worker thread finished; awaiting finish of 0 more threads\n",
      "INFO - 18:44:35: EPOCH - 50 : training on 279019 raw words (121096 effective words) took 0.6s, 206351 effective words/s\n",
      "INFO - 18:44:36: worker thread finished; awaiting finish of 0 more threads\n",
      "INFO - 18:44:36: EPOCH - 51 : training on 279019 raw words (121021 effective words) took 0.6s, 204533 effective words/s\n",
      "INFO - 18:44:37: worker thread finished; awaiting finish of 0 more threads\n",
      "INFO - 18:44:37: EPOCH - 52 : training on 279019 raw words (121367 effective words) took 0.6s, 209083 effective words/s\n",
      "INFO - 18:44:37: worker thread finished; awaiting finish of 0 more threads\n",
      "INFO - 18:44:37: EPOCH - 53 : training on 279019 raw words (121084 effective words) took 0.6s, 209690 effective words/s\n",
      "INFO - 18:44:38: worker thread finished; awaiting finish of 0 more threads\n",
      "INFO - 18:44:38: EPOCH - 54 : training on 279019 raw words (121320 effective words) took 0.6s, 207167 effective words/s\n",
      "INFO - 18:44:38: worker thread finished; awaiting finish of 0 more threads\n",
      "INFO - 18:44:38: EPOCH - 55 : training on 279019 raw words (120708 effective words) took 0.6s, 209543 effective words/s\n",
      "INFO - 18:44:39: worker thread finished; awaiting finish of 0 more threads\n",
      "INFO - 18:44:39: EPOCH - 56 : training on 279019 raw words (121161 effective words) took 0.6s, 206033 effective words/s\n",
      "INFO - 18:44:40: worker thread finished; awaiting finish of 0 more threads\n",
      "INFO - 18:44:40: EPOCH - 57 : training on 279019 raw words (121167 effective words) took 0.6s, 209547 effective words/s\n",
      "INFO - 18:44:40: worker thread finished; awaiting finish of 0 more threads\n",
      "INFO - 18:44:40: EPOCH - 58 : training on 279019 raw words (121420 effective words) took 0.6s, 211730 effective words/s\n",
      "INFO - 18:44:41: worker thread finished; awaiting finish of 0 more threads\n",
      "INFO - 18:44:41: EPOCH - 59 : training on 279019 raw words (120937 effective words) took 0.6s, 212106 effective words/s\n",
      "INFO - 18:44:41: worker thread finished; awaiting finish of 0 more threads\n",
      "INFO - 18:44:41: EPOCH - 60 : training on 279019 raw words (121189 effective words) took 0.6s, 211285 effective words/s\n",
      "INFO - 18:44:42: worker thread finished; awaiting finish of 0 more threads\n",
      "INFO - 18:44:42: EPOCH - 61 : training on 279019 raw words (121196 effective words) took 0.6s, 208385 effective words/s\n",
      "INFO - 18:44:42: worker thread finished; awaiting finish of 0 more threads\n",
      "INFO - 18:44:42: EPOCH - 62 : training on 279019 raw words (121152 effective words) took 0.6s, 209426 effective words/s\n",
      "INFO - 18:44:43: worker thread finished; awaiting finish of 0 more threads\n",
      "INFO - 18:44:43: EPOCH - 63 : training on 279019 raw words (120966 effective words) took 0.6s, 213327 effective words/s\n",
      "INFO - 18:44:44: worker thread finished; awaiting finish of 0 more threads\n",
      "INFO - 18:44:44: EPOCH - 64 : training on 279019 raw words (121027 effective words) took 0.6s, 207381 effective words/s\n",
      "INFO - 18:44:44: worker thread finished; awaiting finish of 0 more threads\n",
      "INFO - 18:44:44: EPOCH - 65 : training on 279019 raw words (120977 effective words) took 0.6s, 206385 effective words/s\n",
      "INFO - 18:44:45: worker thread finished; awaiting finish of 0 more threads\n",
      "INFO - 18:44:45: EPOCH - 66 : training on 279019 raw words (121272 effective words) took 0.6s, 210848 effective words/s\n",
      "INFO - 18:44:45: worker thread finished; awaiting finish of 0 more threads\n",
      "INFO - 18:44:45: EPOCH - 67 : training on 279019 raw words (121259 effective words) took 0.6s, 213136 effective words/s\n",
      "INFO - 18:44:46: worker thread finished; awaiting finish of 0 more threads\n",
      "INFO - 18:44:46: EPOCH - 68 : training on 279019 raw words (120887 effective words) took 0.6s, 203068 effective words/s\n",
      "INFO - 18:44:47: worker thread finished; awaiting finish of 0 more threads\n",
      "INFO - 18:44:47: EPOCH - 69 : training on 279019 raw words (121154 effective words) took 0.6s, 208771 effective words/s\n",
      "INFO - 18:44:47: worker thread finished; awaiting finish of 0 more threads\n",
      "INFO - 18:44:47: EPOCH - 70 : training on 279019 raw words (121079 effective words) took 0.6s, 211405 effective words/s\n",
      "INFO - 18:44:48: worker thread finished; awaiting finish of 0 more threads\n",
      "INFO - 18:44:48: EPOCH - 71 : training on 279019 raw words (121071 effective words) took 0.6s, 211532 effective words/s\n",
      "INFO - 18:44:48: worker thread finished; awaiting finish of 0 more threads\n",
      "INFO - 18:44:48: EPOCH - 72 : training on 279019 raw words (121073 effective words) took 0.6s, 209163 effective words/s\n",
      "INFO - 18:44:49: worker thread finished; awaiting finish of 0 more threads\n",
      "INFO - 18:44:49: EPOCH - 73 : training on 279019 raw words (120877 effective words) took 0.6s, 205074 effective words/s\n",
      "INFO - 18:44:49: worker thread finished; awaiting finish of 0 more threads\n",
      "INFO - 18:44:49: EPOCH - 74 : training on 279019 raw words (121181 effective words) took 0.6s, 208480 effective words/s\n",
      "INFO - 18:44:50: worker thread finished; awaiting finish of 0 more threads\n",
      "INFO - 18:44:50: EPOCH - 75 : training on 279019 raw words (121162 effective words) took 0.6s, 212497 effective words/s\n",
      "INFO - 18:44:51: worker thread finished; awaiting finish of 0 more threads\n",
      "INFO - 18:44:51: EPOCH - 76 : training on 279019 raw words (121193 effective words) took 0.6s, 205171 effective words/s\n",
      "INFO - 18:44:51: worker thread finished; awaiting finish of 0 more threads\n",
      "INFO - 18:44:51: EPOCH - 77 : training on 279019 raw words (121044 effective words) took 0.6s, 206317 effective words/s\n",
      "INFO - 18:44:52: worker thread finished; awaiting finish of 0 more threads\n",
      "INFO - 18:44:52: EPOCH - 78 : training on 279019 raw words (120877 effective words) took 0.6s, 212989 effective words/s\n",
      "INFO - 18:44:52: worker thread finished; awaiting finish of 0 more threads\n",
      "INFO - 18:44:52: EPOCH - 79 : training on 279019 raw words (121114 effective words) took 0.6s, 209792 effective words/s\n",
      "INFO - 18:44:53: worker thread finished; awaiting finish of 0 more threads\n",
      "INFO - 18:44:53: EPOCH - 80 : training on 279019 raw words (120669 effective words) took 0.6s, 204758 effective words/s\n",
      "INFO - 18:44:54: worker thread finished; awaiting finish of 0 more threads\n",
      "INFO - 18:44:54: EPOCH - 81 : training on 279019 raw words (120965 effective words) took 0.6s, 209638 effective words/s\n",
      "INFO - 18:44:54: worker thread finished; awaiting finish of 0 more threads\n",
      "INFO - 18:44:54: EPOCH - 82 : training on 279019 raw words (120901 effective words) took 0.6s, 208849 effective words/s\n",
      "INFO - 18:44:55: worker thread finished; awaiting finish of 0 more threads\n",
      "INFO - 18:44:55: EPOCH - 83 : training on 279019 raw words (121011 effective words) took 0.6s, 211105 effective words/s\n",
      "INFO - 18:44:55: worker thread finished; awaiting finish of 0 more threads\n",
      "INFO - 18:44:55: EPOCH - 84 : training on 279019 raw words (120988 effective words) took 0.6s, 210543 effective words/s\n"
     ]
    },
    {
     "name": "stderr",
     "output_type": "stream",
     "text": [
      "INFO - 18:44:56: worker thread finished; awaiting finish of 0 more threads\n",
      "INFO - 18:44:56: EPOCH - 85 : training on 279019 raw words (121267 effective words) took 0.6s, 206550 effective words/s\n",
      "INFO - 18:44:57: worker thread finished; awaiting finish of 0 more threads\n",
      "INFO - 18:44:57: EPOCH - 86 : training on 279019 raw words (121112 effective words) took 0.6s, 207635 effective words/s\n",
      "INFO - 18:44:57: worker thread finished; awaiting finish of 0 more threads\n",
      "INFO - 18:44:57: EPOCH - 87 : training on 279019 raw words (121319 effective words) took 0.6s, 211737 effective words/s\n",
      "INFO - 18:44:58: worker thread finished; awaiting finish of 0 more threads\n",
      "INFO - 18:44:58: EPOCH - 88 : training on 279019 raw words (121396 effective words) took 0.6s, 205620 effective words/s\n",
      "INFO - 18:44:58: worker thread finished; awaiting finish of 0 more threads\n",
      "INFO - 18:44:58: EPOCH - 89 : training on 279019 raw words (120785 effective words) took 0.6s, 206810 effective words/s\n",
      "INFO - 18:44:59: worker thread finished; awaiting finish of 0 more threads\n",
      "INFO - 18:44:59: EPOCH - 90 : training on 279019 raw words (120866 effective words) took 0.6s, 208938 effective words/s\n",
      "INFO - 18:44:59: worker thread finished; awaiting finish of 0 more threads\n",
      "INFO - 18:44:59: EPOCH - 91 : training on 279019 raw words (121068 effective words) took 0.6s, 211810 effective words/s\n",
      "INFO - 18:45:00: worker thread finished; awaiting finish of 0 more threads\n",
      "INFO - 18:45:00: EPOCH - 92 : training on 279019 raw words (121364 effective words) took 0.6s, 200072 effective words/s\n",
      "INFO - 18:45:01: worker thread finished; awaiting finish of 0 more threads\n",
      "INFO - 18:45:01: EPOCH - 93 : training on 279019 raw words (121048 effective words) took 0.6s, 188804 effective words/s\n",
      "INFO - 18:45:01: worker thread finished; awaiting finish of 0 more threads\n",
      "INFO - 18:45:01: EPOCH - 94 : training on 279019 raw words (120890 effective words) took 0.7s, 164989 effective words/s\n",
      "INFO - 18:45:02: worker thread finished; awaiting finish of 0 more threads\n",
      "INFO - 18:45:02: EPOCH - 95 : training on 279019 raw words (120888 effective words) took 0.7s, 180748 effective words/s\n",
      "INFO - 18:45:03: worker thread finished; awaiting finish of 0 more threads\n",
      "INFO - 18:45:03: EPOCH - 96 : training on 279019 raw words (121116 effective words) took 0.7s, 175786 effective words/s\n",
      "INFO - 18:45:04: worker thread finished; awaiting finish of 0 more threads\n",
      "INFO - 18:45:04: EPOCH - 97 : training on 279019 raw words (121354 effective words) took 0.7s, 176340 effective words/s\n",
      "INFO - 18:45:04: worker thread finished; awaiting finish of 0 more threads\n",
      "INFO - 18:45:04: EPOCH - 98 : training on 279019 raw words (120874 effective words) took 0.6s, 187374 effective words/s\n",
      "INFO - 18:45:05: worker thread finished; awaiting finish of 0 more threads\n",
      "INFO - 18:45:05: EPOCH - 99 : training on 279019 raw words (120914 effective words) took 0.6s, 209156 effective words/s\n",
      "INFO - 18:45:05: worker thread finished; awaiting finish of 0 more threads\n",
      "INFO - 18:45:05: EPOCH - 100 : training on 279019 raw words (120920 effective words) took 0.6s, 188337 effective words/s\n",
      "INFO - 18:45:05: training on a 27901900 raw words (12106747 effective words) took 60.7s, 199494 effective words/s\n",
      "INFO - 18:45:05: precomputing L2-norms of word weight vectors\n"
     ]
    }
   ],
   "source": [
    "w2v.train(sent, total_examples=w2v.corpus_count, epochs=w2v.epochs)\n",
    "w2v.init_sims()###your code ### "
   ]
  },
  {
   "cell_type": "markdown",
   "metadata": {},
   "source": [
    "### Subtask 3: Exploring the Model\n"
   ]
  },
  {
   "cell_type": "markdown",
   "metadata": {},
   "source": [
    "As mentioned in the lecture, word embeddings are suited for similarity and analogy tasks. Let's explore some of that with our dataset: \n",
    "\n",
    "We look for most similar words to the famous coffee shop where most of the episodes took place, namely `central_perk` and also one of the characters `joey`. If you have followed the exercise correctly until now, you should see that words like `laying` are similar to `central_perk` and the other main characters are also considered similar to `joey`.\n",
    "\n"
   ]
  },
  {
   "cell_type": "code",
   "execution_count": 20,
   "metadata": {},
   "outputs": [
    {
     "data": {
      "text/plain": [
       "[('chandler', 0.8192551136016846),\n",
       " ('ross', 0.7393684387207031),\n",
       " ('ecstatic', 0.7240068912506104),\n",
       " ('rachel', 0.7236038446426392),\n",
       " ('smiles', 0.7210620045661926),\n",
       " ('walks', 0.7198983430862427),\n",
       " ('sits', 0.7191171646118164),\n",
       " ('monica', 0.706131637096405),\n",
       " ('turns', 0.7042323350906372),\n",
       " ('follows', 0.6774201393127441)]"
      ]
     },
     "execution_count": 20,
     "metadata": {},
     "output_type": "execute_result"
    }
   ],
   "source": [
    "###your code### \n",
    "w2v.wv.most_similar(\"joey\")"
   ]
  },
  {
   "cell_type": "code",
   "execution_count": 21,
   "metadata": {},
   "outputs": [
    {
     "data": {
      "text/plain": [
       "[('recliner', 0.8730356693267822),\n",
       " ('footrest', 0.7096772789955139),\n",
       " ('directions', 0.6886029243469238),\n",
       " ('bathtub', 0.6781551837921143),\n",
       " ('whatwhatwhat', 0.674041748046875),\n",
       " ('onescene', 0.6579492092132568),\n",
       " ('uhu', 0.6393327116966248),\n",
       " ('parachute', 0.6289703249931335),\n",
       " ('fixes', 0.6274850964546204),\n",
       " ('stool', 0.6202569007873535)]"
      ]
     },
     "execution_count": 21,
     "metadata": {},
     "output_type": "execute_result"
    }
   ],
   "source": [
    "###your code### \n",
    "w2v.wv.most_similar(\"laying\")"
   ]
  },
  {
   "cell_type": "markdown",
   "metadata": {},
   "source": [
    "Look at the similarity of `mrs_green` to `rachel` (her mom) and `ross`  and `spaceship` (urelated). The first one should have a high and the second low score. Finally look at the similarity of `smelly_cat` ( a song from pheobe) and `song` the similarity should be high."
   ]
  },
  {
   "cell_type": "code",
   "execution_count": null,
   "metadata": {},
   "outputs": [],
   "source": [
    "###your code### "
   ]
  },
  {
   "cell_type": "code",
   "execution_count": null,
   "metadata": {},
   "outputs": [],
   "source": [
    "###your code### "
   ]
  },
  {
   "cell_type": "code",
   "execution_count": null,
   "metadata": {},
   "outputs": [],
   "source": [
    "###your code### "
   ]
  },
  {
   "cell_type": "markdown",
   "metadata": {},
   "source": [
    "We can also ask our model to give us the word that does not belong to a list of words. Let's see from the list of all 5 characters which one is the most dissimilar? \n"
   ]
  },
  {
   "cell_type": "code",
   "execution_count": null,
   "metadata": {},
   "outputs": [],
   "source": [
    "character_names= ['joey', 'rachel', 'phoebe','monica','chandler']"
   ]
  },
  {
   "cell_type": "code",
   "execution_count": null,
   "metadata": {},
   "outputs": [],
   "source": [
    "w2v.### your code### "
   ]
  },
  {
   "cell_type": "markdown",
   "metadata": {},
   "source": [
    "Based on the analogies, which word is to `rachel` as `man` is to `women`? (print the top 3); you should get `chandler` and `monica` among the answers."
   ]
  },
  {
   "cell_type": "code",
   "execution_count": null,
   "metadata": {},
   "outputs": [],
   "source": [
    "w2v.### your code### "
   ]
  },
  {
   "cell_type": "markdown",
   "metadata": {},
   "source": [
    "Finally, lets use t-SNE to look at the distribution of our embeddings in the vector space for the character `joey`. Follow the instructions and fill in the blank in the `tsneplot` function."
   ]
  },
  {
   "cell_type": "code",
   "execution_count": null,
   "metadata": {},
   "outputs": [],
   "source": [
    "import numpy as np\n",
    "import matplotlib.pyplot as plt\n",
    "%matplotlib inline\n",
    "import seaborn as sns\n",
    "import sys\n",
    "from sklearn.manifold import TSNE"
   ]
  },
  {
   "cell_type": "code",
   "execution_count": null,
   "metadata": {},
   "outputs": [],
   "source": [
    "def tsneplot(model, word):\n",
    "    \"\"\" Plot in seaborn the results from the t-SNE dimensionality reduction for the top 10 most similar and dissimilar words\n",
    "    \"\"\"\n",
    "    embs = np.empty((0, 100), dtype='f')# to save all the embeddings\n",
    "    word_labels = [word]\n",
    "    color_list  = ['green']\n",
    "\n",
    "   \n",
    "    embs = np.append( # adds the vector of the query word\n",
    "    \n",
    "   \n",
    "    close_words = model.wv. # gets list of most similar words\n",
    "    all_sims = model. # gets list of most dissimilar words (get the sorted list of all the words and their similarity and choose the bottom 10 )\n",
    "    \n",
    "    # adds the vector for each of the closest words to the array\n",
    "    for wrd_score in close_words:\n",
    "        wrd_vector = #get the vector \n",
    "        word_labels.append(wrd_score[0])\n",
    "        color_list.append('blue')\n",
    "        embs = np.append(embs, wrd_vector, axis=0)\n",
    "        \n",
    "    # adds the vector for each of the furthest words to the array\n",
    "    for wrd_score in far_words:\n",
    "        wrd_vector = #get the vector \n",
    "        word_labels.append(wrd_score[0])\n",
    "        color_list.append('red')\n",
    "        embs = np.append(embs, wrd_vector, axis=0)\n",
    "    \n",
    "    np.set_printoptions(suppress=True)\n",
    "    Y = TSNE(# with  n_components=2, random_state=42, perplexity=15 \n",
    "    \n",
    "    # Sets everything up to plot\n",
    "    df = pd.DataFrame({'x': [x for x in Y[:, 0]],\n",
    "                       'y': [y for y in Y[:, 1]],\n",
    "                       'words': word_labels,\n",
    "                       'color': color_list})\n",
    "    \n",
    "    fig, _ = plt.subplots()\n",
    "    fig.set_size_inches(10, 10)\n",
    "    \n",
    "    # Basic plot\n",
    "    p1 = sns.regplot(data=df,\n",
    "                     x=\"x\",\n",
    "                     y=\"y\",\n",
    "                     fit_reg=False,\n",
    "                     marker=\"o\",\n",
    "                     scatter_kws={'s': 40,\n",
    "                                  'facecolors': df['color']\n",
    "                                 }\n",
    "                    )\n",
    "    \n",
    "    # adds annotations one by one with a loop\n",
    "    for line in range(0, df.shape[0]):\n",
    "         p1.text(df[\"x\"][line],\n",
    "                 df['y'][line],\n",
    "                 '  ' + df[\"words\"][line].title(),\n",
    "                 horizontalalignment='left',\n",
    "                 verticalalignment='bottom', size='medium',\n",
    "                 color=df['color'][line],\n",
    "                 weight='normal'\n",
    "                ).set_size(15)\n",
    "\n",
    "    \n",
    "    plt.xlim(Y[:, 0].min()-50, Y[:, 0].max()+50)\n",
    "    plt.ylim(Y[:, 1].min()-50, Y[:, 1].max()+50)\n",
    "            \n",
    "    plt.title('t-SNE visualization for {}'.format(word.title()))\n",
    "    "
   ]
  },
  {
   "cell_type": "code",
   "execution_count": null,
   "metadata": {},
   "outputs": [],
   "source": [
    "tsneplot(w2v, 'joey')"
   ]
  },
  {
   "cell_type": "markdown",
   "metadata": {},
   "source": [
    "## Task 2: Multi-class Classification ( 1+ 3 + 2 = 6 points)\n",
    "In this task, we aim to classify consumer finance complaints into 12 pre-defined classes. Note that this is not a multi-label task, and we assume that each new complaint is assigned to one and only one category. The data comes from https://www.data.gov/ (US government’s open data) and contains complaints that are published after the company responds, confirming a commercial relationship with the consumer, or after 15 days, whatever comes first.\n"
   ]
  },
  {
   "cell_type": "markdown",
   "metadata": {},
   "source": [
    "### Sub Task 1: Data Exploration"
   ]
  },
  {
   "cell_type": "markdown",
   "metadata": {},
   "source": [
    "Read the data to a pandas dataframe from `complaints.csv`; this is a rather large file of 206MB. Keep only the `Consumer complaint narrative` (input text) and `product`(labels). Remove the missing values, rename `Consumer complaint narrative` to `Narrative` for ease of use, and add a column encoding the product as an integer. This will represent your labels for classification and the mapping will be used later on. Create two dictionaries: one mapping the ids to products and one mapping products to their ids."
   ]
  },
  {
   "cell_type": "code",
   "execution_count": 13,
   "metadata": {},
   "outputs": [
    {
     "data": {
      "text/html": [
       "<div>\n",
       "<style scoped>\n",
       "    .dataframe tbody tr th:only-of-type {\n",
       "        vertical-align: middle;\n",
       "    }\n",
       "\n",
       "    .dataframe tbody tr th {\n",
       "        vertical-align: top;\n",
       "    }\n",
       "\n",
       "    .dataframe thead th {\n",
       "        text-align: right;\n",
       "    }\n",
       "</style>\n",
       "<table border=\"1\" class=\"dataframe\">\n",
       "  <thead>\n",
       "    <tr style=\"text-align: right;\">\n",
       "      <th></th>\n",
       "      <th>Narrative</th>\n",
       "      <th>Product</th>\n",
       "    </tr>\n",
       "  </thead>\n",
       "  <tbody>\n",
       "    <tr>\n",
       "      <th>0</th>\n",
       "      <td>NaN</td>\n",
       "      <td>Checking or savings account</td>\n",
       "    </tr>\n",
       "    <tr>\n",
       "      <th>1</th>\n",
       "      <td>I was sold access to an event digitally, of wh...</td>\n",
       "      <td>Money transfer, virtual currency, or money ser...</td>\n",
       "    </tr>\n",
       "    <tr>\n",
       "      <th>2</th>\n",
       "      <td>NaN</td>\n",
       "      <td>Vehicle loan or lease</td>\n",
       "    </tr>\n",
       "    <tr>\n",
       "      <th>3</th>\n",
       "      <td>NaN</td>\n",
       "      <td>Checking or savings account</td>\n",
       "    </tr>\n",
       "    <tr>\n",
       "      <th>4</th>\n",
       "      <td>NaN</td>\n",
       "      <td>Checking or savings account</td>\n",
       "    </tr>\n",
       "  </tbody>\n",
       "</table>\n",
       "</div>"
      ],
      "text/plain": [
       "                                           Narrative  \\\n",
       "0                                                NaN   \n",
       "1  I was sold access to an event digitally, of wh...   \n",
       "2                                                NaN   \n",
       "3                                                NaN   \n",
       "4                                                NaN   \n",
       "\n",
       "                                             Product  \n",
       "0                        Checking or savings account  \n",
       "1  Money transfer, virtual currency, or money ser...  \n",
       "2                              Vehicle loan or lease  \n",
       "3                        Checking or savings account  \n",
       "4                        Checking or savings account  "
      ]
     },
     "execution_count": 13,
     "metadata": {},
     "output_type": "execute_result"
    }
   ],
   "source": [
    "import pandas as pd\n",
    "from io import StringIO\n",
    "df = pd.read_csv(\"ITA_assignment3_data/complaints.csv\") ###read the file ####\n",
    "df =  df[['Consumer complaint narrative','Product']] ###keep the columns you need ####\n",
    "df.columns = ['Narrative', 'Product'] ###rename columns ####\n",
    "df.head()"
   ]
  },
  {
   "cell_type": "code",
   "execution_count": 14,
   "metadata": {},
   "outputs": [
    {
     "data": {
      "text/html": [
       "<div>\n",
       "<style scoped>\n",
       "    .dataframe tbody tr th:only-of-type {\n",
       "        vertical-align: middle;\n",
       "    }\n",
       "\n",
       "    .dataframe tbody tr th {\n",
       "        vertical-align: top;\n",
       "    }\n",
       "\n",
       "    .dataframe thead th {\n",
       "        text-align: right;\n",
       "    }\n",
       "</style>\n",
       "<table border=\"1\" class=\"dataframe\">\n",
       "  <thead>\n",
       "    <tr style=\"text-align: right;\">\n",
       "      <th></th>\n",
       "      <th>Narrative</th>\n",
       "      <th>Product</th>\n",
       "      <th>product_id</th>\n",
       "    </tr>\n",
       "  </thead>\n",
       "  <tbody>\n",
       "    <tr>\n",
       "      <th>1</th>\n",
       "      <td>I was sold access to an event digitally, of wh...</td>\n",
       "      <td>Money transfer, virtual currency, or money ser...</td>\n",
       "      <td>5</td>\n",
       "    </tr>\n",
       "    <tr>\n",
       "      <th>5</th>\n",
       "      <td>I LEASED MY CAR ON XX/XX/XXXX AND MADE PAYMENT...</td>\n",
       "      <td>Vehicle loan or lease</td>\n",
       "      <td>12</td>\n",
       "    </tr>\n",
       "    <tr>\n",
       "      <th>6</th>\n",
       "      <td>My original lender was XXXX XXXX XXXX ; this l...</td>\n",
       "      <td>Student loan</td>\n",
       "      <td>11</td>\n",
       "    </tr>\n",
       "    <tr>\n",
       "      <th>8</th>\n",
       "      <td>I was misled by XXXX XXXX  and my degree did n...</td>\n",
       "      <td>Student loan</td>\n",
       "      <td>11</td>\n",
       "    </tr>\n",
       "    <tr>\n",
       "      <th>10</th>\n",
       "      <td>I purchased a vehicle 3 years ago. As of recen...</td>\n",
       "      <td>Vehicle loan or lease</td>\n",
       "      <td>12</td>\n",
       "    </tr>\n",
       "  </tbody>\n",
       "</table>\n",
       "</div>"
      ],
      "text/plain": [
       "                                            Narrative  \\\n",
       "1   I was sold access to an event digitally, of wh...   \n",
       "5   I LEASED MY CAR ON XX/XX/XXXX AND MADE PAYMENT...   \n",
       "6   My original lender was XXXX XXXX XXXX ; this l...   \n",
       "8   I was misled by XXXX XXXX  and my degree did n...   \n",
       "10  I purchased a vehicle 3 years ago. As of recen...   \n",
       "\n",
       "                                              Product  product_id  \n",
       "1   Money transfer, virtual currency, or money ser...           5  \n",
       "5                               Vehicle loan or lease          12  \n",
       "6                                        Student loan          11  \n",
       "8                                        Student loan          11  \n",
       "10                              Vehicle loan or lease          12  "
      ]
     },
     "execution_count": 14,
     "metadata": {},
     "output_type": "execute_result"
    }
   ],
   "source": [
    "df = df.dropna()### remove missing #### \n",
    "df['product_id'] = df.groupby('Product').ngroup()### integer ids for product ### \n",
    "### create the dictionary #### \n",
    "id2product = dict()\n",
    "product2id = dict()\n",
    "for _, row in df[['Product', 'product_id']].drop_duplicates().iterrows():\n",
    "    product2id[row['Product']] = row['product_id']\n",
    "    id2product[row['product_id']] = row['Product']\n",
    "df.head()\n",
    "\n",
    "# print(product2id)\n",
    "# print(id2product)"
   ]
  },
  {
   "cell_type": "markdown",
   "metadata": {},
   "source": [
    "Look at the class distribution of the products. It is always a good idea to look at the relative number of instances for each class before performing any classification task. Use the `plot` function from the dataframe to show the number of instances in each class in a histogram."
   ]
  },
  {
   "cell_type": "code",
   "execution_count": 15,
   "metadata": {
    "scrolled": true
   },
   "outputs": [
    {
     "data": {
      "text/plain": [
       "<Figure size 720x576 with 0 Axes>"
      ]
     },
     "metadata": {},
     "output_type": "display_data"
    },
    {
     "data": {
      "image/png": "[encoded data removed]",
      "text/plain": [
       "<Figure size 432x288 with 1 Axes>"
      ]
     },
     "metadata": {
      "needs_background": "light"
     },
     "output_type": "display_data"
    }
   ],
   "source": [
    "import matplotlib.pyplot as plt\n",
    "fig = plt.figure(figsize=(10,8))\n",
    "ax = df.plot.hist(by='product_id', bins=14)\n",
    "plt.show()"
   ]
  },
  {
   "cell_type": "markdown",
   "metadata": {},
   "source": [
    "If you have done the exercise correctly you should observe a class imbalance with `credit reporting` having the most complaints. This can result in some difficulties for standard algorithms, making them biased towards the majority class and treating the minority classes as outliers and unimportant. One way to overcome this problem is by using **undersampling** or **oversampling**. However, this is beyond the scope of this assignment."
   ]
  },
  {
   "cell_type": "markdown",
   "metadata": {},
   "source": [
    "### Sub Task 2: Text Representation and Training the Classifier \n",
    "Before performing any classification we need to split our data into train and test sets. Use `sklearn` to save 20 percent of the data for the test and the rest for training. Make sure to input the index of the data frame to retrieve the indices of the test and train. \n"
   ]
  },
  {
   "cell_type": "code",
   "execution_count": 16,
   "metadata": {},
   "outputs": [],
   "source": [
    "from sklearn.model_selection import train_test_split\n",
    "X_train, X_test, y_train, y_test, indices_train, indices_test = train_test_split(df['Narrative'].to_list(), df['product_id'].to_list(), df.index.to_list(), test_size=0.2)### your code ###"
   ]
  },
  {
   "cell_type": "markdown",
   "metadata": {},
   "source": [
    "To perform any sort of classification task, we first need to convert our raw text into some vector representation. Let's use the `TfidfVectorizer` from `sklearn` to convert the `narrative` column into TF-IDF vectors. When transforming the text keep the following in mind:\n",
    "- use the logarithmic form for frequency\n",
    "- remove accents (ASCII) \n",
    "- lowercase all characters \n",
    "- remove `English` stop words \n",
    "- ignore terms that have a document frequency strictly less than 10\n",
    "- smooth IDF weights by adding one to document frequencies \n",
    "- output row should have unit L2 norm\n",
    "- set the encoding to `Latin-1`\n",
    "- extract both uni-grams and bi-grams \n",
    "- build a vocabulary that only considers the top 10.000 features\n",
    "Keep in mind that the vectorizer should be trained **only** on the training data, and the test data should be transformed using the same model."
   ]
  },
  {
   "cell_type": "code",
   "execution_count": null,
   "metadata": {},
   "outputs": [],
   "source": [
    "from sklearn.feature_extraction.text import TfidfVectorizer\n",
    "tfidf = TfidfVectorizer(###initlize the model ### \n",
    "X_train = ###transform text  ### \n",
    "X_train.shape # should be (132647, 10000) "
   ]
  },
  {
   "cell_type": "markdown",
   "metadata": {},
   "source": [
    "After the data transformation, we attain the features and labels, to train the classifier. In our case, we use **Naive Bayes Classifier**. \n",
    "- split the features and labels into training and test set (set the random state to 42) \n",
    "- use `MultinomialNB` from sklearn to classify the data "
   ]
  },
  {
   "cell_type": "code",
   "execution_count": null,
   "metadata": {},
   "outputs": [],
   "source": [
    "from sklearn.naive_bayes import MultinomialNB\n",
    "clf =### fit the model to the data ### "
   ]
  },
  {
   "cell_type": "markdown",
   "metadata": {},
   "source": [
    "### Sub Task 3: Model Evaluation  "
   ]
  },
  {
   "cell_type": "markdown",
   "metadata": {},
   "source": [
    "We evaluate our model using the held-out test data. We are going to look at the confusion matrix to show the performance of the model. "
   ]
  },
  {
   "cell_type": "code",
   "execution_count": null,
   "metadata": {},
   "outputs": [],
   "source": [
    "from sklearn.metrics import confusion_matrix\n",
    "import seaborn as sns\n",
    "y_pred = ### predict on the test set ### \n",
    "conf = ### create the confusion matrix ### \n",
    "fig, ax = plt.subplots(figsize=(10,10))\n",
    "sns.heatmap(conf, annot=True, fmt='d',\n",
    "            xticklabels=###products names from the dictionary ###,\n",
    "            yticklabels=### products names from the dictionary###)\n",
    "plt.ylabel('True Label')\n",
    "plt.xlabel('Predicted Label')\n",
    "plt.show()"
   ]
  },
  {
   "cell_type": "markdown",
   "metadata": {},
   "source": [
    "The majority of the predictions end up on the diagonal (predicted label = actual label). The diagonal shows the correct classified classes. However, there are several misclassifications, specifically `Checking or savings account` is often confused with `Bank account or service`. Let's take a look at why this happens. For this, we look at 5 misclassified examples."
   ]
  },
  {
   "cell_type": "code",
   "execution_count": null,
   "metadata": {},
   "outputs": [],
   "source": [
    "actual='Bank account or service'\n",
    "predicted= 'Checking or savings account'\n",
    "### print only the top 10 \n",
    "df###choose the ones that have an actual label of Bank account or service and the predicted label of Checking or savings account ###)"
   ]
  },
  {
   "cell_type": "markdown",
   "metadata": {},
   "source": [
    "As you can see, some of the misclassified complaints are complaints that are not easy to distinguish. "
   ]
  },
  {
   "cell_type": "markdown",
   "metadata": {},
   "source": [
    "## Task 3: Auto-Complete ( 2 + 5 + 4 = 11 Points ) \n",
    "Let's get even more practical! In this problem set, you will build your own auto-completion system that you see every day while using search engines.\n",
    "\n",
    "[google]: https://www.thedad.com/wp-content/uploads/2018/05/screen-shot-2018-05-12-at-2-01-56-pm.png \"google auto complete\"\n",
    "\n",
    "![google]\n",
    "By the end of this assignment, you will develop a simple prototype of such a system using n-gram language models. At the heart of the system is a language model that assigns the probability to a sequence of words. We take advantage of this probability calculation to predict the next word. \n",
    "\n",
    "The problem set contains 3 main parts:\n",
    "\n",
    "1. Load and preprocess data (tokenize and split into train and test)\n",
    "2. Develop n-gram based language models by estimating the conditional probability of the next word.\n",
    "3. Evaluate the model by computing the perplexity score.\n"
   ]
  },
  {
   "cell_type": "markdown",
   "metadata": {},
   "source": [
    "### Sub Task 1: Load and Preprocess Data \n",
    "We use a subset of English tweets to train our model. Run the cell below to load the data and observe a few lines of it. Notice that tweets are saved in a text file, where tweets are separated by `\\n`"
   ]
  },
  {
   "cell_type": "code",
   "execution_count": 2,
   "metadata": {},
   "outputs": [
    {
     "name": "stdout",
     "output_type": "stream",
     "text": [
      "First 500 characters of the data:\n"
     ]
    },
    {
     "data": {
      "text/plain": [
       "\"How are you? Btw thanks for the RT. You gonna be in DC anytime soon? Love to see you. Been way, way too long.\\nWhen you meet someone special... you'll know. Your heart will beat more rapidly and you'll smile for no reason.\\nthey've decided its more fun if I don't.\\nSo Tired D; Played Lazer Tag & Ran A LOT D; Ughh Going To Sleep Like In 5 Minutes ;)\\nWords from a complete stranger! Made my birthday even better :)\\nFirst Cubs game ever! Wrigley field is gorgeous. This is perfect. Go Cubs Go!\\ni no! i ge\""
      ]
     },
     "metadata": {},
     "output_type": "display_data"
    },
    {
     "name": "stdout",
     "output_type": "stream",
     "text": [
      "-------\n"
     ]
    }
   ],
   "source": [
    "import math\n",
    "import random\n",
    "import numpy as np\n",
    "import spacy\n",
    "nlp = spacy.load(\"en_core_web_sm\", disable=[\"tagger\", \"parser\",\"ner\"])\n",
    "\n",
    "\n",
    "with open(\"twitter.txt\", \"r\", encoding='UTF-8') as f:\n",
    "    data = f.read()\n",
    "print(\"First 500 characters of the data:\")\n",
    "display(data[0:500])\n",
    "print(\"-------\")"
   ]
  },
  {
   "cell_type": "markdown",
   "metadata": {},
   "source": [
    "Now we need to separate the tweets and split them into train and test set. Apply the following pre-processing steps:\n",
    "\n",
    "1. Split data into sentences using \"\\n\" as the delimiter and remove the leading and trailing spaces (drop empty sentences)\n",
    "2. Tokenize the sentences into words using SpaCy and lowercase them. (notice that we do not remove stop words or punctuations.) \n",
    "3. Divide the sentences into 80 percent training and 20 percent test set. No validation set is required. Although in a real-world application it is best to set aside part of the data for hyperparameter tuning.\n",
    "4. To limit the vocabulary and remove potential spelling mistakes, make a vocabulary of the words that appear at least 2 times. The rest of the words will be replaced by the `<unk>` symbol. This is a crucial step since if your model encounters a word that it never saw during training, it won't have an input word that helps determining the next word for suggestion. We use the `<unk>` word for **out of Vocabulary (OOV)** words. Keep in mind that we built the vocabulary on the training data only."
   ]
  },
  {
   "cell_type": "code",
   "execution_count": 27,
   "metadata": {},
   "outputs": [
    {
     "name": "stdout",
     "output_type": "stream",
     "text": [
      "47962\n"
     ]
    }
   ],
   "source": [
    "sentences = data.split('\\n')#split\n",
    "# todo\n",
    "# sentences = #remove spaces and drop empty sentences \n",
    "print(len(sentences))"
   ]
  },
  {
   "cell_type": "code",
   "execution_count": 28,
   "metadata": {},
   "outputs": [
    {
     "name": "stdout",
     "output_type": "stream",
     "text": [
      "47962\n"
     ]
    }
   ],
   "source": [
    "tokenized_corpus = [[token.text.lower() for token in nlp(sent)] for sent in sentences]# list of list of the tokens in a sentence \n",
    "##Your Code###   \n",
    "print(len(tokenized_corpus))"
   ]
  },
  {
   "cell_type": "code",
   "execution_count": 29,
   "metadata": {},
   "outputs": [],
   "source": [
    "from random import Random\n",
    "Random(4).shuffle(tokenized_corpus)\n",
    "\n",
    "train = tokenized_corpus[0:int(0.8* len(tokenized_corpus))]\n",
    "test = tokenized_corpus[int(0.8* len(tokenized_corpus)): len(tokenized_corpus)] ##Your Code###     "
   ]
  },
  {
   "cell_type": "code",
   "execution_count": 31,
   "metadata": {},
   "outputs": [
    {
     "name": "stdout",
     "output_type": "stream",
     "text": [
      "35102\n",
      "14863\n"
     ]
    }
   ],
   "source": [
    "from collections import Counter\n",
    "flatten_corpus = [token for token_list in train for token in token_list] ### Flatten the train corpus ### \n",
    "word_counts = Counter(flatten_corpus) ### count the number of each token ### \n",
    "print(len(word_counts))\n",
    "vocab = [token for token, freq in word_counts.items() if freq>=2]\n",
    "\n",
    "### keep only the ones with frequency bigger than 2 ### \n",
    "print(len(vocab)) ### should be 16930 ### \n",
    "train_replaced = []\n",
    "test_replaced = []\n",
    "for sentence in train:\n",
    "    ### adjust the sentence to contain the word in the vocabulary and <unk> for the rest #### \n",
    "    new_sent = []\n",
    "    for token in sentence:\n",
    "        if token in vocab:\n",
    "            new_sent.append(token)\n",
    "        else:\n",
    "            new_sent.append('<unk>')\n",
    "    train_replaced.append(new_sent)\n",
    "for sentence in test:\n",
    "    new_sent = []\n",
    "    for token in sentence:\n",
    "        if token in vocab:\n",
    "            new_sent.append(token)\n",
    "        else:\n",
    "            new_sent.append('<unk>')\n",
    "    train_replaced.append(new_sent)"
   ]
  },
  {
   "cell_type": "markdown",
   "metadata": {},
   "source": [
    "### Sub Task 2: N-gram Based Language Model: \n",
    "In this section, you will develop the n-grams language model. We assume that the probability of the next word depends only on the previous n-gram or previous n words. We compute this probability by counting the occurrences in the corpus.\n",
    "The conditional probability for the word at position 't' in the sentence, given that the words preceding it are $w_{t-1}, w_{t-2} \\cdots w_{t-n}$ can be estimated as follows:\n",
    "\n",
    "$$ \\hat{P}(w_t | w_{t-1}\\dots w_{t-n}) = \\frac{C(w_{t-1}\\dots w_{t-n}, w_n)}{C(w_{t-1}\\dots w_{t-n})}  $$\n",
    "\n",
    "The numerator is the number of times word 't' appears after the n-gram, and the denominator is the number of times the n-gram occurs in the corpus, where $C(\\cdots)$ is a count function. Later, we add k-smoothing to avoid errors when any counts are zero."
   ]
  },
  {
   "cell_type": "markdown",
   "metadata": {},
   "source": [
    "To tackle the problem of probability estimation we divide the problem into 3 parts. In the following you will: \n",
    "1. Implement a function that computes the counts of n-grams for an arbitrary number n.\n",
    "2. Estimate the probability of a word given the prior n-words using the n-gram counts.\n",
    "3. Calculate probabilities for all possible words.\n",
    "4. Create a probability matrix. \n",
    "The steps are detailed below. "
   ]
  },
  {
   "cell_type": "markdown",
   "metadata": {},
   "source": [
    "Let's start by implementing a function that computes the counts of n-grams for an arbitrary number n.\n",
    "- Prepend necessary starting markers `<s>` to indicate the beginning of the sentence. In the case of a bi-gram model, you need to prepend two start tokens `<s><s>` to be able to predict the first word. \"hello world\"-> \"`<s><s>`hello world\".\n",
    "- Append an end token `<e>` so that the model can predict when to finish a sentence.\n",
    "- Create a dictionary to store all the n_gram counts."
   ]
  },
  {
   "cell_type": "code",
   "execution_count": null,
   "metadata": {},
   "outputs": [],
   "source": [
    "def n_grams_counts(corpus, n):\n",
    "    \"\"\"\n",
    "    Count all n-grams in the corpus given the parameter n \n",
    "    \n",
    "    data: List of lists of words (your tokenized corpus)\n",
    "    n: n in the n-gram\n",
    "    \n",
    "    Returns: A dictionary that maps a tuple of n words to its frequency\n",
    "    \"\"\"\n",
    "    start_token='<s>'\n",
    "    end_token = '<e>'\n",
    "    n_grams = defaultdict(int)\n",
    "    for sentence in corpus: \n",
    "        sentence = ### add start and end token ###\n",
    "        # convert list to tuple so it can be used a the key in the dictionary \n",
    "        sentence = tuple(sentence)\n",
    "        \n",
    "        ###iterate over the n-grams in the sentence, you can use the range() function, and increament the counts in the\n",
    "        ## n_grams dictionary, where the key is the n_gram and the value is count \n",
    "    return n_grams"
   ]
  },
  {
   "cell_type": "markdown",
   "metadata": {},
   "source": [
    "The next step is to estimate the probability of a word given the prior n words using the n-gram counts, based on the formula given at the beginning of this task. To deal with the problem of zero division we add k-smoothing. K-smoothing adds a positive constant $k$ to each numerator and $k \\times |vocabulary size|$ in the denominator. Below we will define a function that takes in a dictionary `n_gram_cnt`, where the key is the n-gram, and the value is the count of that n-gram, plus a dictionary for `plus_current_gram_cnt`, which you'll use to find the count for the previous n-gram plus the current word. Notice that these dictionaries are computed using the previous function `n_grams_counts`.\n"
   ]
  },
  {
   "cell_type": "code",
   "execution_count": null,
   "metadata": {},
   "outputs": [],
   "source": [
    "def probability(word, prev_n_gram, \n",
    "                         n_gram_cnts, n_plus1_gram_cnts, vocab_size):\n",
    "    \"\"\"\n",
    "    Estimate the probabilities of a next word using the n-gram counts with k-smoothing\n",
    "    word: next word\n",
    "    prev_n_gram: previous n gram\n",
    "    n_gram_cnts: dictionary of counts of n-grams\n",
    "    plus_current_gram_cnts: dictionary of counts of (n+1)-grams -> current word+ n-gram = (n+1)-gram\n",
    "    vocab_size: number of words in the vocabulary\n",
    "    \n",
    "    Returns: A probability\n",
    "    \"\"\"\n",
    "    k=1.0\n",
    "    prev_n_gram = tuple(prev_n_gram)\n",
    "    \n",
    "    prev_n_gram_cnt =  # get the previous n-gram count from the dictionary \n",
    "    denominator = # denominator with the previous n-gram count and k-smoothing\n",
    "    n_plus1_gram =  # add the current word to the n-gram \n",
    "    n_plus1_gram_cnt =  # get the current n-gram count using the dictionary\n",
    "    numerator = #calculate the numerator with k-smoothing\n",
    "    prob =\n",
    "    \n",
    "    return prob"
   ]
  },
  {
   "cell_type": "markdown",
   "metadata": {},
   "source": [
    "Let's use the functions we have defined to calculate probabilities for all possible words.\n"
   ]
  },
  {
   "cell_type": "code",
   "execution_count": null,
   "metadata": {},
   "outputs": [],
   "source": [
    "def probabilities(prev_n_gram, n_gram_cnts, plus_current_gram_cnts, vocab):\n",
    "    \"\"\"\n",
    "    Estimate the probabilities for all the words in the vocabulary given the previous n-gram \n",
    "    prev_n_gram: previous n-gram\n",
    "    n_gram_cnts: dictionary of counts of n-grams\n",
    "    plus_current_gram_cntsplus_current_gram_cnt: dictionary of counts of (n+1)-grams -> current word+ n-gram = (n+1)-gram\n",
    "    vocab: List of words\n",
    "    \n",
    "    Returns: A dictionary mapping from next words to the probability.\n",
    "    \"\"\"\n",
    "    prev_n_gram = tuple(prev_n_gram)\n",
    "    \n",
    "    vocab =  # add <e> <unk> to the vocabulary\n",
    "    vocabulary_size = #compute the size \n",
    "    \n",
    "    probabilities = {}\n",
    "    for word in vocab:\n",
    "        ### compute the probability \n",
    "    return probabilities"
   ]
  },
  {
   "cell_type": "code",
   "execution_count": null,
   "metadata": {},
   "outputs": [],
   "source": [
    "# Predict the probability of the all possible words after the unigram \"the\"\n",
    "sentences = [['the', 'moon', 'and', 'stars', 'are','shining','bright'],\n",
    "             ['the', 'moon', 'is', 'shinnig','tonight'],\n",
    "             ['mars','and' ,'moon', 'are', 'plants'],\n",
    "             ['the' ,'moon', 'is','a', 'plant']]\n",
    "unique_words = list(set(sentences[0] + sentences[1] + sentences[2]+ sentences[3]))\n",
    "unigram_counts = n_grams_counts(sentences, 1)\n",
    "bigram_counts = n_grams_counts(sentences, 2)\n",
    "print(\"The word 'moon' should have the highest probability, if it is not the case, re-visit your previous functions.\")\n",
    "probabilities([\"the\"], unigram_counts, bigram_counts, unique_words)"
   ]
  },
  {
   "cell_type": "markdown",
   "metadata": {},
   "source": [
    "## Sub Task 3: Evaluation "
   ]
  },
  {
   "cell_type": "markdown",
   "metadata": {},
   "source": [
    "In this section we use the perplexity score to evaluate your model on the test set.\n",
    "the perplexity score of the test set on an n-gram model, is denoted as follows: \n",
    "\n",
    "$$ PP(W) =\\sqrt[N]{ \\prod_{t=n}^{N-1} \\frac{1}{P(w_t | w_{t-n} \\cdots w_{t-1})} } $$\n",
    "- where $N$ is the length of the sentence. ($N-1$ is used because in the code we start from the index 0).\n",
    "- $n$ is the number of words in the n-gram.\n",
    "\n",
    "Notice that we have already computed this probability. \n",
    "\n",
    "The higher the probabilities are, the lower the perplexity will be. "
   ]
  },
  {
   "cell_type": "code",
   "execution_count": null,
   "metadata": {},
   "outputs": [],
   "source": [
    "def perplexity(sentence, n_gram_cnts, plus_current_gram_cnts, vocab_size, k=1.0):\n",
    "    \"\"\"\n",
    "    Calculate perplexity for a list of sentences\n",
    "    sentence: List of strings\n",
    "    n_gram_cnts: dictionary of counts of n-grams\n",
    "    plus_current_gram_cnts: dictionary of counts of (n+1)-grams -> current word+ n-gram = (n+1)-gram\n",
    "    vocab_size: number of unique words in the vocabulary\n",
    "    k: positive smoothing constant\n",
    "    \n",
    "    Returns: Perplexity score for a single sentence \n",
    "    \"\"\"\n",
    "    \n",
    "    n =  # get the number 'n' in  n-gram  from n_gram_cnts  \n",
    "    \n",
    "    sentence =  # prepend <s> and append <e>\n",
    "    sentence = tuple(sentence)\n",
    "    N =# length of sentence \n",
    "    \n",
    "   \n",
    "    product_pi = 1.0 \n",
    "    \n",
    "    ### Compute the product of probabilites ###\n",
    "    \n",
    "    for t in range(n, N): \n",
    "        n_gram =# get the n-gram before the predicted word (n-gram before t )\n",
    "        word =  # get the word to be predicted (position t)\n",
    "        prob = probability(\n",
    "        product_pi *= # Update the product of the probabilities\n",
    "    \n",
    "    perplexity = product_pi**(1/float(N)) # Take the Nth root of the product\n",
    "    return perplexity"
   ]
  },
  {
   "cell_type": "markdown",
   "metadata": {},
   "source": [
    "Use the function to find the perplexity of a bi-gram model on the first instance of training and test set."
   ]
  },
  {
   "cell_type": "code",
   "execution_count": null,
   "metadata": {},
   "outputs": [],
   "source": [
    "bigram_counts = ### your code ###\n",
    "trigram_counts = ### your code ###\n",
    "\n",
    "perplexity_train = perplexity(train_replaced[0],bigram_counts, trigram_counts,len(vocab))\n",
    "print(f\"Perplexity for first train sample: {perplexity_train:.4f}\")\n",
    "\n",
    "perplexity_test = perplexity(test_replaced[0],bigram_counts, trigram_counts,len(vocab))\n",
    "print(f\"Perplexity for test sample: {perplexity_test:.4f}\")# the preprexity for the train sample should be much lower "
   ]
  },
  {
   "cell_type": "markdown",
   "metadata": {},
   "source": [
    "Finally, let's use the model we created to generate an auto-complete system that makes suggestions."
   ]
  },
  {
   "cell_type": "code",
   "execution_count": null,
   "metadata": {},
   "outputs": [],
   "source": [
    "def suggest_a_word(up_to_here, n_gram_cnts, plus_current_gram_cnts, vocab , start_with=None):\n",
    "    \"\"\"\n",
    "    Get suggestion for the next word\n",
    "    up_to_here: the sentence so far, must have length > n \n",
    "    n_gram_cnts: dictionary of counts of n-grams\n",
    "    plus_current_gram_cnts: dictionary of counts of (n+1)-grams -> current word+ n-gram = (n+1)-gram\n",
    "    vocab: List of words\n",
    "    start_with: If not None, specifies the first few letters of the next word\n",
    "        \n",
    "    Returns: (most likely next word,  probability) \n",
    "    \"\"\"    \n",
    "    n = len(list(n_gram_cnts.keys())[0]) # get the number 'n' in  n-gram  from n_gram_cnts     \n",
    "    previous_n_gram = previous_tokens[-n:] # get the last 'n' words as the previous n-gram from the input sentence\n",
    "\n",
    "    \n",
    "    probabs = # Estimate the probabilities for each word in the vocabulary\n",
    "    \n",
    "    probabs = \n",
    "    ### sort the probability for higher to lower and return the highest probability word,probability tuple\n",
    "    #if start_with is specified then return the highest probability word that starts with that specific character \n"
   ]
  },
  {
   "cell_type": "markdown",
   "metadata": {},
   "source": [
    "Test your model based on the bi-gram model created on the training corpus."
   ]
  },
  {
   "cell_type": "code",
   "execution_count": null,
   "metadata": {},
   "outputs": [],
   "source": [
    "previous_tokens=['i','like']\n",
    "start_with='g'\n",
    "suggestion = suggest_a_word(previous_tokens, bigram_counts,trigram_counts, list(vocab),start_with=start_with)\n",
    "suggestion"
   ]
  },
  {
   "cell_type": "code",
   "execution_count": null,
   "metadata": {},
   "outputs": [],
   "source": [
    "previous_tokens=['i','like','to']\n",
    "start_with=None\n",
    "suggestion = suggest_a_word(previous_tokens, bigram_counts,trigram_counts, list(vocab),start_with=start_with)\n",
    "suggestion"
   ]
  },
  {
   "cell_type": "code",
   "execution_count": null,
   "metadata": {},
   "outputs": [],
   "source": [
    "previous_tokens=[\"hello\", \"my\", \"name\", \"is\"]\n",
    "start_with=None\n",
    "suggestion = suggest_a_word(previous_tokens, bigram_counts,trigram_counts, list(vocab),start_with=start_with)\n",
    "suggestion"
   ]
  },
  {
   "cell_type": "code",
   "execution_count": null,
   "metadata": {},
   "outputs": [],
   "source": [
    "previous_tokens=[\"hello\", \"my\", \"name\", \"is\"]\n",
    "start_with='sa'\n",
    "suggestion = suggest_a_word(previous_tokens, bigram_counts,trigram_counts, list(vocab),start_with=start_with)\n",
    "suggestion"
   ]
  },
  {
   "cell_type": "markdown",
   "metadata": {},
   "source": [
    "## Task 4: Theoretical Questions ( 1 +1 +1 +1 + 1 = 5 Points) \n"
   ]
  },
  {
   "cell_type": "markdown",
   "metadata": {},
   "source": [
    "Please answer the following questions in the notebook cells using markdown, try to be percise and short. "
   ]
  },
  {
   "cell_type": "markdown",
   "metadata": {},
   "source": [
    "### Sub Task 1: What is the goal of Word2Veec? / What is a word embedding?"
   ]
  },
  {
   "cell_type": "markdown",
   "metadata": {},
   "source": []
  },
  {
   "cell_type": "markdown",
   "metadata": {},
   "source": [
    "<<< your answer >>>"
   ]
  },
  {
   "cell_type": "markdown",
   "metadata": {},
   "source": [
    "### Sub Task 2: For gradient descent, what advantage has a decaying learning rate?"
   ]
  },
  {
   "cell_type": "markdown",
   "metadata": {},
   "source": []
  },
  {
   "cell_type": "markdown",
   "metadata": {},
   "source": [
    "<<< your answer >>>"
   ]
  },
  {
   "cell_type": "markdown",
   "metadata": {},
   "source": [
    "### Sub Task 3: Why is it easier to maximize the log likelihood instead of the \"normal\" likelihood?"
   ]
  },
  {
   "cell_type": "markdown",
   "metadata": {},
   "source": []
  },
  {
   "cell_type": "markdown",
   "metadata": {},
   "source": [
    "<<< your answer >>>"
   ]
  },
  {
   "cell_type": "markdown",
   "metadata": {},
   "source": [
    "### Sub Task 4: Word2Vec trains a complete neural network. How do we extract word embeddings from this network?"
   ]
  },
  {
   "cell_type": "markdown",
   "metadata": {},
   "source": []
  },
  {
   "cell_type": "markdown",
   "metadata": {},
   "source": [
    "<<< your answer >>>\n"
   ]
  },
  {
   "cell_type": "markdown",
   "metadata": {},
   "source": [
    "### Sub Task 5: What advantages has fastText over Word2Vec? "
   ]
  },
  {
   "cell_type": "markdown",
   "metadata": {},
   "source": []
  },
  {
   "cell_type": "markdown",
   "metadata": {},
   "source": [
    "<<< your answer >>>\n"
   ]
  },
  {
   "cell_type": "code",
   "execution_count": null,
   "metadata": {},
   "outputs": [],
   "source": []
  }
 ],
 "metadata": {
  "kernelspec": {
   "display_name": "Python 3",
   "language": "python",
   "name": "python3"
  },
  "language_info": {
   "codemirror_mode": {
    "name": "ipython",
    "version": 3
   },
   "file_extension": ".py",
   "mimetype": "text/x-python",
   "name": "python",
   "nbconvert_exporter": "python",
   "pygments_lexer": "ipython3",
   "version": "3.8.3"
  }
 },
 "nbformat": 4,
 "nbformat_minor": 2
}
