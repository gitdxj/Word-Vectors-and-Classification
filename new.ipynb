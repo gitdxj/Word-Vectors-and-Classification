{
 "cells": [
  {
   "cell_type": "markdown",
   "metadata": {},
   "source": [
    "# Assignment 3 : \"Word Vectors and Classification\"\n",
    "Due: Monday 2pm, Feburary 1, 2021, via Moodle"
   ]
  },
  {
   "cell_type": "markdown",
   "metadata": {},
   "source": [
    "### Submission guidelines\n",
    "\n",
    "- Solutions need to be uploaded as a single Jupyter notebook. You will find many provided codes in the notebook, your task is to fill in the missing cells.\n",
    "- For the written solution, use LaTeX in markdown inside the same notebook. Do *not* hand in a separate file for it.\n",
    "- Download the .zip file containing the dataset but do *not* upload it with your solution.\n",
    "- It is sufficient if one person per group uploads the solution to Moodle, but make sure that the names of\n",
    "all team members are given in the notebook."
   ]
  },
  {
   "cell_type": "markdown",
   "metadata": {},
   "source": [
    "--------"
   ]
  },
  {
   "cell_type": "markdown",
   "metadata": {},
   "source": [
    "## Task 1: F.R.I.E.N.D.S and  Word2Vec ( 3+ 2+ 3 = 8 points) "
   ]
  },
  {
   "cell_type": "markdown",
   "metadata": {},
   "source": [
    "Friends is an American television sitcom, created by David Crane and Marta Kauffman. In this assignment we will use the transcripts from the show to train a Word2Vec model using the Gensim library."
   ]
  },
  {
   "cell_type": "markdown",
   "metadata": {},
   "source": [
    "### Subtask 1: Pre-processing \n",
    "We start by loading and cleaning the data. Download the dataset for this assignment and load the `friends_quotes.csv` using pandas. The dataset is from Kaggle (https://www.kaggle.com/ryanstonebraker/friends-transcript) and is created for building a classifier that could determine which friend from the Friend's TV Show would be most likely to say a quote. The column `quote` contains the line from the movie and `author` is the one who spoke it. Since these are the only two columns we need, we remove the rest and only keep these two. "
   ]
  },
  {
   "cell_type": "code",
   "execution_count": 1,
   "metadata": {},
   "outputs": [],
   "source": [
    "import re  \n",
    "import pandas as pd  \n",
    "from collections import defaultdict  \n",
    "import spacy \n",
    "import logging  # Setting up the loggings to monitor gensim\n",
    "logging.basicConfig(format=\"%(levelname)s - %(asctime)s: %(message)s\", datefmt= '%H:%M:%S', level=logging.INFO)"
   ]
  },
  {
   "cell_type": "code",
   "execution_count": 2,
   "metadata": {},
   "outputs": [
    {
     "data": {
      "text/html": [
       "<div>\n",
       "<style scoped>\n",
       "    .dataframe tbody tr th:only-of-type {\n",
       "        vertical-align: middle;\n",
       "    }\n",
       "\n",
       "    .dataframe tbody tr th {\n",
       "        vertical-align: top;\n",
       "    }\n",
       "\n",
       "    .dataframe thead th {\n",
       "        text-align: right;\n",
       "    }\n",
       "</style>\n",
       "<table border=\"1\" class=\"dataframe\">\n",
       "  <thead>\n",
       "    <tr style=\"text-align: right;\">\n",
       "      <th></th>\n",
       "      <th>author</th>\n",
       "      <th>quote</th>\n",
       "    </tr>\n",
       "  </thead>\n",
       "  <tbody>\n",
       "    <tr>\n",
       "      <th>0</th>\n",
       "      <td>Monica</td>\n",
       "      <td>There's nothing to tell! He's just some guy I ...</td>\n",
       "    </tr>\n",
       "    <tr>\n",
       "      <th>1</th>\n",
       "      <td>Joey</td>\n",
       "      <td>C'mon, you're going out with the guy! There's ...</td>\n",
       "    </tr>\n",
       "    <tr>\n",
       "      <th>2</th>\n",
       "      <td>Chandler</td>\n",
       "      <td>All right Joey, be nice. So does he have a hum...</td>\n",
       "    </tr>\n",
       "    <tr>\n",
       "      <th>3</th>\n",
       "      <td>Phoebe</td>\n",
       "      <td>Wait, does he eat chalk?</td>\n",
       "    </tr>\n",
       "    <tr>\n",
       "      <th>4</th>\n",
       "      <td>Phoebe</td>\n",
       "      <td>Just, 'cause, I don't want her to go through w...</td>\n",
       "    </tr>\n",
       "  </tbody>\n",
       "</table>\n",
       "</div>"
      ],
      "text/plain": [
       "     author                                              quote\n",
       "0    Monica  There's nothing to tell! He's just some guy I ...\n",
       "1      Joey  C'mon, you're going out with the guy! There's ...\n",
       "2  Chandler  All right Joey, be nice. So does he have a hum...\n",
       "3    Phoebe                           Wait, does he eat chalk?\n",
       "4    Phoebe  Just, 'cause, I don't want her to go through w..."
      ]
     },
     "execution_count": 2,
     "metadata": {},
     "output_type": "execute_result"
    }
   ],
   "source": [
    "df = pd.read_csv(\"friends_quotes.csv\")### Load the data #### \n",
    "### filter out columns ### \n",
    "df = df[['author','quote']]\n",
    "df.head()"
   ]
  },
  {
   "cell_type": "markdown",
   "metadata": {},
   "source": [
    "Fortunately, there is no missing data, so we do not need to worry about that. "
   ]
  },
  {
   "cell_type": "code",
   "execution_count": 3,
   "metadata": {},
   "outputs": [
    {
     "data": {
      "text/plain": [
       "author    0\n",
       "quote     0\n",
       "dtype: int64"
      ]
     },
     "execution_count": 3,
     "metadata": {},
     "output_type": "execute_result"
    }
   ],
   "source": [
    "df.isnull().sum() # check for missing data"
   ]
  },
  {
   "cell_type": "markdown",
   "metadata": {},
   "source": [
    "use SpaCy similar to assignment 2 to pre-process the text, perform the following steps: \n",
    "- lowercase the words \n",
    "- remove the stopwords and single characters\n",
    "- use regex to remove non-alphabetic characters (anything that is not a number or alphabet including punctuations), in other words only keep \"a\" to \"z\" and digits. \n",
    "- remove lines that have less than 3 words, since they cannot contribute much to the training process.\n",
    "\n",
    "Please do not add additional steps on your own or additional cleaning, we want to create comparable results. "
   ]
  },
  {
   "cell_type": "code",
   "execution_count": 4,
   "metadata": {},
   "outputs": [],
   "source": [
    "nlp = spacy.load(\"en_core_web_sm\", disable=[\"tagger\", \"parser\",\"ner\"])\n",
    "stopwords = spacy.lang.en.stop_words.STOP_WORDS # only use these stop words, do not add your own! \n",
    "df[\"quote\"] = df['quote'].apply(lambda x: re.sub(\"[/']\", '',re.sub(\"[^A-Za-z\\d']+\", ' ', str(x))).lower())# lowercase and remove non-alphabetic characters\n",
    "quotes =[] # to save all the lines \n",
    "for quote in df['quote'].to_list():\n",
    "    tmp_token_list = []\n",
    "    for token in nlp(quote):\n",
    "        if token.text not in stopwords and len(token.text)>1:  # remove stopwords and single characters\n",
    "            tmp_token_list.append(token.text)\n",
    "    if len(tmp_token_list)>=3:  # remove lines that have less than 3 words\n",
    "        quotes.append(\" \".join(tmp_token_list))\n",
    "### Your Code ### \n"
   ]
  },
  {
   "cell_type": "markdown",
   "metadata": {},
   "source": [
    "The next step is to build the vocabulary of the words and word combinations we want to learn representations from. We choose a subset of the most frequent words and bigrams to represent our corpus.\n",
    "- use the Gensim Phrases package to automatically detect common phrases (bigrams) from a list of lines from the previous step (`min_count=10`). Now words like New_York will be considered as one entity and character names like joey_tribbiani will be recognized.\n",
    "- create a list of words/bigrams with their frequencies and choose the top 15.000 words for the vocabulary, to keep the computation time-limited and choose the most important words."
   ]
  },
  {
   "cell_type": "code",
   "execution_count": 5,
   "metadata": {},
   "outputs": [
    {
     "name": "stderr",
     "output_type": "stream",
     "text": [
      "INFO - 00:45:40: collecting all words and their counts\n",
      "INFO - 00:45:40: PROGRESS: at sentence #0, processed 0 words and 0 word types\n",
      "INFO - 00:45:41: PROGRESS: at sentence #10000, processed 73357 words and 54561 word types\n",
      "INFO - 00:45:41: PROGRESS: at sentence #20000, processed 148180 words and 96583 word types\n",
      "INFO - 00:45:41: PROGRESS: at sentence #30000, processed 221990 words and 133455 word types\n",
      "INFO - 00:45:41: collected 161336 word types from a corpus of 278076 words (unigram + bigrams) and 37724 sentences\n",
      "INFO - 00:45:41: using 161336 counts as vocab in Phrases<0 vocab, min_count=10, threshold=10.0, max_vocab_size=40000000>\n",
      "INFO - 00:45:42: adding document #0 to Dictionary(0 unique tokens: [])\n",
      "INFO - 00:45:42: adding document #10000 to Dictionary(8671 unique tokens: ['guy', 'tell', 'work', 'cmon', 'going']...)\n",
      "INFO - 00:45:42: adding document #20000 to Dictionary(11791 unique tokens: ['guy', 'tell', 'work', 'cmon', 'going']...)\n",
      "INFO - 00:45:43: adding document #30000 to Dictionary(13997 unique tokens: ['guy', 'tell', 'work', 'cmon', 'going']...)\n",
      "INFO - 00:45:43: built Dictionary(15966 unique tokens: ['guy', 'tell', 'work', 'cmon', 'going']...) from 37724 documents (total 267015 corpus positions)\n",
      "INFO - 00:45:43: discarding 966 tokens: [('carcasses', 1), ('vegetarians', 1), ('irritated', 1), ('hyundai', 1), ('headline', 1), ('gi', 1), ('groups', 1), ('graff', 1), ('steffi', 1), ('yield', 1)]...\n",
      "INFO - 00:45:43: keeping 15000 tokens which were in no less than 0 and no more than 37724 (=100.0%) documents\n",
      "INFO - 00:45:43: resulting dictionary: Dictionary(15000 unique tokens: ['guy', 'tell', 'work', 'cmon', 'going']...)\n"
     ]
    }
   ],
   "source": [
    "from gensim.models.phrases import Phrases, Phraser\n",
    "sent = [quote.split() for quote in quotes]#list of all words# \n",
    "phrases = Phrases(sent, min_count=10)#define the phraser for bi-gram creation# \n",
    "new_lines = [phrases[line] for line in sent]#transform the lines# \n",
    "\n",
    "# ### find the top words for the vocabulary###\n",
    "\n",
    "from gensim.corpora import Dictionary\n",
    "vocab = Dictionary(new_lines).filter_extremes(no_below=0, no_above=1, keep_n=15000)\n",
    "\n",
    "# vocab=###top words ###\n"
   ]
  },
  {
   "cell_type": "code",
   "execution_count": 6,
   "metadata": {},
   "outputs": [
    {
     "name": "stdout",
     "output_type": "stream",
     "text": [
      "[['tell', 'guy', 'work'], ['cmon', 'going', 'guy', 'got_ta', 'wrong'], ['right', 'joey', 'nice', 'hump', 'hump', 'hairpiece'], ['wait', 'eat', 'chalk'], ['cause', 'nt', 'want', 'went', 'carl', 'oh'], ['okay', 'everybody', 'relax', 'date', 'people', 'going', 'dinner', 'having_sex'], ['sounds_like', 'date'], ['alright', 'high_school', 'standing', 'middle', 'cafeteria', 'realize', 'totally', 'naked'], ['oh', 'yeah', 'dream'], ['look', 'realize', 'phone']]\n"
     ]
    }
   ],
   "source": [
    "print(new_lines[0:10])"
   ]
  },
  {
   "cell_type": "markdown",
   "metadata": {},
   "source": [
    "### Subtask 2: Training The Model\n"
   ]
  },
  {
   "cell_type": "markdown",
   "metadata": {},
   "source": [
    "Use Gensim the implementation of Word2Vec to train a model on the scripts. The training can be divided into 3 stages:\n",
    "\n",
    "\n",
    "1) Set up your model with parameters, define your parameters in such a way that the following conditions are satisfied:\n",
    " - ignores all words that have a total absolute frequency less than 2.\n",
    " - dimensions of the embeddings: 100 \n",
    " - initial learning rate of 0.03 \n",
    " - 20 negative samples \n",
    " - window size 3 \n",
    " - learning rate in the training will decrease as you apply more and more updates. Most of the time when starting with gradient descent the initial steps can be larger, and as we get close to the local minima it is best to use smaller steps to avoid jumping over the local minima. This adjustment is done internally using a learning rate scheduler. Make sure that the smallest learning rate does not go below 0.0001.\n",
    " - set the threshold for configuring which higher-frequency words are randomly down-sampled to 6e-5. This parameter forces the sampling to choose the very frequent words less often in the sampling.\n",
    " - set the hashfunction of the word2vec to the given function.\n",
    " - train on a single worker to make sure you get the same result as ours."
   ]
  },
  {
   "cell_type": "code",
   "execution_count": 7,
   "metadata": {},
   "outputs": [],
   "source": [
    "from gensim.models import Word2Vec\n",
    "def hash(astring):\n",
    "    return ord(astring[0])"
   ]
  },
  {
   "cell_type": "code",
   "execution_count": 8,
   "metadata": {},
   "outputs": [],
   "source": [
    "# num_workers = 1\n",
    "# num_negative = 20\n",
    "# num_features = 100\n",
    "# min_word_count = 2\n",
    "# window_size = 3\n",
    "# subsampling = 6e-5\n",
    "# alpha = 0.03\n",
    "# min_alpha= 0.0001\n",
    "# hashfunc = hash\n",
    "# epochs = 100\n",
    "\n",
    "\n",
    "w2v = Word2Vec(\n",
    "    workers = 1,\n",
    "    negative = 20,\n",
    "    size = 100,\n",
    "    min_count = 2,\n",
    "    window = 3,\n",
    "    sample = 6e-5,\n",
    "    alpha = 0.03,\n",
    "    min_alpha = 0.0001,\n",
    "    hashfxn = hash,\n",
    "    iter = 100\n",
    ")### your code ### "
   ]
  },
  {
   "cell_type": "markdown",
   "metadata": {},
   "source": [
    "2) before training, Word2Vec requires us to build the vocabulary table by filtering out the unique words and doing some basic counts on them.\n",
    "If you look at the logs you can see the effect of `min_count` and `sample` on the word corpus. Use the `build_vocab` function to process the data."
   ]
  },
  {
   "cell_type": "code",
   "execution_count": 9,
   "metadata": {},
   "outputs": [
    {
     "name": "stderr",
     "output_type": "stream",
     "text": [
      "INFO - 00:45:43: collecting all words and their counts\n",
      "INFO - 00:45:43: PROGRESS: at sentence #0, processed 0 words, keeping 0 word types\n",
      "INFO - 00:45:43: PROGRESS: at sentence #10000, processed 70495 words, keeping 8671 word types\n",
      "INFO - 00:45:43: PROGRESS: at sentence #20000, processed 142215 words, keeping 11791 word types\n",
      "INFO - 00:45:43: PROGRESS: at sentence #30000, processed 213077 words, keeping 13997 word types\n",
      "INFO - 00:45:43: collected 15966 word types from a corpus of 267015 raw words and 37724 sentences\n",
      "INFO - 00:45:43: Loading a fresh vocabulary\n",
      "INFO - 00:45:43: effective_min_count=2 retains 9336 unique words (58% of original 15966, drops 6630)\n",
      "INFO - 00:45:43: effective_min_count=2 leaves 260385 word corpus (97% of original 267015, drops 6630)\n",
      "INFO - 00:45:43: deleting the raw counts dictionary of 15966 items\n",
      "INFO - 00:45:43: sample=6e-05 downsamples 961 most-common words\n",
      "INFO - 00:45:43: downsampling leaves estimated 121454 word corpus (46.6% of prior 260385)\n",
      "INFO - 00:45:43: estimated required memory for 9336 words and 100 dimensions: 12136800 bytes\n",
      "INFO - 00:45:43: resetting layer weights\n"
     ]
    }
   ],
   "source": [
    "w2v.build_vocab(new_lines)### your code ### "
   ]
  },
  {
   "cell_type": "markdown",
   "metadata": {},
   "source": [
    "3) Finally, we get to train the model. Train the model for 100 epochs. This will take a while. As we do not plan to train the model any further, we call `init_sims()`, which will make the model much more memory-efficient by precomputing L2-norms of word weight vectors for further analysis. "
   ]
  },
  {
   "cell_type": "code",
   "execution_count": 10,
   "metadata": {},
   "outputs": [
    {
     "name": "stderr",
     "output_type": "stream",
     "text": [
      "INFO - 00:45:45: training model with 1 workers on 9336 vocabulary and 100 features, using sg=0 hs=0 sample=6e-05 negative=20 window=3\n",
      "INFO - 00:45:45: worker thread finished; awaiting finish of 0 more threads\n",
      "INFO - 00:45:45: EPOCH - 1 : training on 267015 raw words (121811 effective words) took 0.6s, 220775 effective words/s\n",
      "INFO - 00:45:46: worker thread finished; awaiting finish of 0 more threads\n",
      "INFO - 00:45:46: EPOCH - 2 : training on 267015 raw words (121294 effective words) took 0.5s, 223556 effective words/s\n",
      "INFO - 00:45:47: worker thread finished; awaiting finish of 0 more threads\n",
      "INFO - 00:45:47: EPOCH - 3 : training on 267015 raw words (121625 effective words) took 0.8s, 159748 effective words/s\n",
      "INFO - 00:45:47: worker thread finished; awaiting finish of 0 more threads\n",
      "INFO - 00:45:47: EPOCH - 4 : training on 267015 raw words (121648 effective words) took 0.6s, 209365 effective words/s\n",
      "INFO - 00:45:48: worker thread finished; awaiting finish of 0 more threads\n",
      "INFO - 00:45:48: EPOCH - 5 : training on 267015 raw words (121474 effective words) took 0.6s, 189648 effective words/s\n",
      "INFO - 00:45:49: worker thread finished; awaiting finish of 0 more threads\n",
      "INFO - 00:45:49: EPOCH - 6 : training on 267015 raw words (121537 effective words) took 0.6s, 202743 effective words/s\n",
      "INFO - 00:45:49: worker thread finished; awaiting finish of 0 more threads\n",
      "INFO - 00:45:49: EPOCH - 7 : training on 267015 raw words (121571 effective words) took 0.5s, 230947 effective words/s\n",
      "INFO - 00:45:50: worker thread finished; awaiting finish of 0 more threads\n",
      "INFO - 00:45:50: EPOCH - 8 : training on 267015 raw words (121312 effective words) took 0.5s, 240618 effective words/s\n",
      "INFO - 00:45:50: worker thread finished; awaiting finish of 0 more threads\n",
      "INFO - 00:45:50: EPOCH - 9 : training on 267015 raw words (121772 effective words) took 0.5s, 240460 effective words/s\n",
      "INFO - 00:45:51: worker thread finished; awaiting finish of 0 more threads\n",
      "INFO - 00:45:51: EPOCH - 10 : training on 267015 raw words (121410 effective words) took 0.5s, 238614 effective words/s\n",
      "INFO - 00:45:51: worker thread finished; awaiting finish of 0 more threads\n",
      "INFO - 00:45:51: EPOCH - 11 : training on 267015 raw words (121466 effective words) took 0.5s, 237540 effective words/s\n",
      "INFO - 00:45:52: worker thread finished; awaiting finish of 0 more threads\n",
      "INFO - 00:45:52: EPOCH - 12 : training on 267015 raw words (121586 effective words) took 0.5s, 243121 effective words/s\n",
      "INFO - 00:45:52: worker thread finished; awaiting finish of 0 more threads\n",
      "INFO - 00:45:52: EPOCH - 13 : training on 267015 raw words (121664 effective words) took 0.5s, 239469 effective words/s\n",
      "INFO - 00:45:53: worker thread finished; awaiting finish of 0 more threads\n",
      "INFO - 00:45:53: EPOCH - 14 : training on 267015 raw words (121026 effective words) took 0.5s, 237613 effective words/s\n",
      "INFO - 00:45:53: worker thread finished; awaiting finish of 0 more threads\n",
      "INFO - 00:45:53: EPOCH - 15 : training on 267015 raw words (121324 effective words) took 0.5s, 239584 effective words/s\n",
      "INFO - 00:45:54: worker thread finished; awaiting finish of 0 more threads\n",
      "INFO - 00:45:54: EPOCH - 16 : training on 267015 raw words (121525 effective words) took 0.5s, 240628 effective words/s\n",
      "INFO - 00:45:54: worker thread finished; awaiting finish of 0 more threads\n",
      "INFO - 00:45:54: EPOCH - 17 : training on 267015 raw words (121366 effective words) took 0.5s, 235178 effective words/s\n",
      "INFO - 00:45:55: worker thread finished; awaiting finish of 0 more threads\n",
      "INFO - 00:45:55: EPOCH - 18 : training on 267015 raw words (121860 effective words) took 0.5s, 238147 effective words/s\n",
      "INFO - 00:45:55: worker thread finished; awaiting finish of 0 more threads\n",
      "INFO - 00:45:55: EPOCH - 19 : training on 267015 raw words (121394 effective words) took 0.5s, 239859 effective words/s\n",
      "INFO - 00:45:56: worker thread finished; awaiting finish of 0 more threads\n",
      "INFO - 00:45:56: EPOCH - 20 : training on 267015 raw words (121359 effective words) took 0.5s, 239194 effective words/s\n",
      "INFO - 00:45:56: worker thread finished; awaiting finish of 0 more threads\n",
      "INFO - 00:45:56: EPOCH - 21 : training on 267015 raw words (121910 effective words) took 0.5s, 238507 effective words/s\n",
      "INFO - 00:45:57: worker thread finished; awaiting finish of 0 more threads\n",
      "INFO - 00:45:57: EPOCH - 22 : training on 267015 raw words (121479 effective words) took 0.5s, 234057 effective words/s\n",
      "INFO - 00:45:57: worker thread finished; awaiting finish of 0 more threads\n",
      "INFO - 00:45:57: EPOCH - 23 : training on 267015 raw words (121375 effective words) took 0.5s, 235452 effective words/s\n",
      "INFO - 00:45:58: worker thread finished; awaiting finish of 0 more threads\n",
      "INFO - 00:45:58: EPOCH - 24 : training on 267015 raw words (121428 effective words) took 0.5s, 236260 effective words/s\n",
      "INFO - 00:45:58: worker thread finished; awaiting finish of 0 more threads\n",
      "INFO - 00:45:58: EPOCH - 25 : training on 267015 raw words (121313 effective words) took 0.5s, 237795 effective words/s\n",
      "INFO - 00:45:59: worker thread finished; awaiting finish of 0 more threads\n",
      "INFO - 00:45:59: EPOCH - 26 : training on 267015 raw words (121262 effective words) took 0.5s, 234937 effective words/s\n",
      "INFO - 00:45:59: worker thread finished; awaiting finish of 0 more threads\n",
      "INFO - 00:45:59: EPOCH - 27 : training on 267015 raw words (121436 effective words) took 0.5s, 236571 effective words/s\n",
      "INFO - 00:46:00: worker thread finished; awaiting finish of 0 more threads\n",
      "INFO - 00:46:00: EPOCH - 28 : training on 267015 raw words (121240 effective words) took 0.5s, 235879 effective words/s\n",
      "INFO - 00:46:00: worker thread finished; awaiting finish of 0 more threads\n",
      "INFO - 00:46:00: EPOCH - 29 : training on 267015 raw words (121502 effective words) took 0.5s, 228191 effective words/s\n",
      "INFO - 00:46:01: worker thread finished; awaiting finish of 0 more threads\n",
      "INFO - 00:46:01: EPOCH - 30 : training on 267015 raw words (121292 effective words) took 0.5s, 236253 effective words/s\n",
      "INFO - 00:46:01: worker thread finished; awaiting finish of 0 more threads\n",
      "INFO - 00:46:01: EPOCH - 31 : training on 267015 raw words (121341 effective words) took 0.5s, 234125 effective words/s\n",
      "INFO - 00:46:02: worker thread finished; awaiting finish of 0 more threads\n",
      "INFO - 00:46:02: EPOCH - 32 : training on 267015 raw words (121446 effective words) took 0.5s, 229733 effective words/s\n",
      "INFO - 00:46:03: worker thread finished; awaiting finish of 0 more threads\n",
      "INFO - 00:46:03: EPOCH - 33 : training on 267015 raw words (121122 effective words) took 0.5s, 238299 effective words/s\n",
      "INFO - 00:46:03: worker thread finished; awaiting finish of 0 more threads\n",
      "INFO - 00:46:03: EPOCH - 34 : training on 267015 raw words (121398 effective words) took 0.6s, 214836 effective words/s\n",
      "INFO - 00:46:04: worker thread finished; awaiting finish of 0 more threads\n",
      "INFO - 00:46:04: EPOCH - 35 : training on 267015 raw words (121036 effective words) took 0.5s, 237033 effective words/s\n",
      "INFO - 00:46:04: worker thread finished; awaiting finish of 0 more threads\n",
      "INFO - 00:46:04: EPOCH - 36 : training on 267015 raw words (121438 effective words) took 0.5s, 232844 effective words/s\n",
      "INFO - 00:46:05: worker thread finished; awaiting finish of 0 more threads\n",
      "INFO - 00:46:05: EPOCH - 37 : training on 267015 raw words (121352 effective words) took 0.5s, 240416 effective words/s\n",
      "INFO - 00:46:05: worker thread finished; awaiting finish of 0 more threads\n",
      "INFO - 00:46:05: EPOCH - 38 : training on 267015 raw words (121706 effective words) took 0.5s, 236790 effective words/s\n",
      "INFO - 00:46:06: worker thread finished; awaiting finish of 0 more threads\n",
      "INFO - 00:46:06: EPOCH - 39 : training on 267015 raw words (121574 effective words) took 0.5s, 242336 effective words/s\n",
      "INFO - 00:46:06: worker thread finished; awaiting finish of 0 more threads\n",
      "INFO - 00:46:06: EPOCH - 40 : training on 267015 raw words (121487 effective words) took 0.5s, 238900 effective words/s\n",
      "INFO - 00:46:07: worker thread finished; awaiting finish of 0 more threads\n",
      "INFO - 00:46:07: EPOCH - 41 : training on 267015 raw words (121485 effective words) took 0.5s, 237023 effective words/s\n",
      "INFO - 00:46:07: worker thread finished; awaiting finish of 0 more threads\n"
     ]
    },
    {
     "name": "stderr",
     "output_type": "stream",
     "text": [
      "INFO - 00:46:07: EPOCH - 42 : training on 267015 raw words (121305 effective words) took 0.5s, 240665 effective words/s\n",
      "INFO - 00:46:08: worker thread finished; awaiting finish of 0 more threads\n",
      "INFO - 00:46:08: EPOCH - 43 : training on 267015 raw words (121286 effective words) took 0.5s, 236827 effective words/s\n",
      "INFO - 00:46:08: worker thread finished; awaiting finish of 0 more threads\n",
      "INFO - 00:46:08: EPOCH - 44 : training on 267015 raw words (121952 effective words) took 0.5s, 241726 effective words/s\n",
      "INFO - 00:46:09: worker thread finished; awaiting finish of 0 more threads\n",
      "INFO - 00:46:09: EPOCH - 45 : training on 267015 raw words (121404 effective words) took 0.5s, 234437 effective words/s\n",
      "INFO - 00:46:09: worker thread finished; awaiting finish of 0 more threads\n",
      "INFO - 00:46:09: EPOCH - 46 : training on 267015 raw words (121190 effective words) took 0.5s, 239207 effective words/s\n",
      "INFO - 00:46:10: worker thread finished; awaiting finish of 0 more threads\n",
      "INFO - 00:46:10: EPOCH - 47 : training on 267015 raw words (121562 effective words) took 0.5s, 242038 effective words/s\n",
      "INFO - 00:46:10: worker thread finished; awaiting finish of 0 more threads\n",
      "INFO - 00:46:10: EPOCH - 48 : training on 267015 raw words (121666 effective words) took 0.5s, 239225 effective words/s\n",
      "INFO - 00:46:11: worker thread finished; awaiting finish of 0 more threads\n",
      "INFO - 00:46:11: EPOCH - 49 : training on 267015 raw words (121584 effective words) took 0.5s, 236283 effective words/s\n",
      "INFO - 00:46:11: worker thread finished; awaiting finish of 0 more threads\n",
      "INFO - 00:46:11: EPOCH - 50 : training on 267015 raw words (121673 effective words) took 0.5s, 241607 effective words/s\n",
      "INFO - 00:46:12: worker thread finished; awaiting finish of 0 more threads\n",
      "INFO - 00:46:12: EPOCH - 51 : training on 267015 raw words (121583 effective words) took 0.5s, 242096 effective words/s\n",
      "INFO - 00:46:12: worker thread finished; awaiting finish of 0 more threads\n",
      "INFO - 00:46:12: EPOCH - 52 : training on 267015 raw words (121344 effective words) took 0.5s, 241419 effective words/s\n",
      "INFO - 00:46:13: worker thread finished; awaiting finish of 0 more threads\n",
      "INFO - 00:46:13: EPOCH - 53 : training on 267015 raw words (121426 effective words) took 0.5s, 242055 effective words/s\n",
      "INFO - 00:46:13: worker thread finished; awaiting finish of 0 more threads\n",
      "INFO - 00:46:13: EPOCH - 54 : training on 267015 raw words (121538 effective words) took 0.5s, 237221 effective words/s\n",
      "INFO - 00:46:14: worker thread finished; awaiting finish of 0 more threads\n",
      "INFO - 00:46:14: EPOCH - 55 : training on 267015 raw words (121278 effective words) took 0.5s, 240461 effective words/s\n",
      "INFO - 00:46:14: worker thread finished; awaiting finish of 0 more threads\n",
      "INFO - 00:46:14: EPOCH - 56 : training on 267015 raw words (121343 effective words) took 0.5s, 237369 effective words/s\n",
      "INFO - 00:46:15: worker thread finished; awaiting finish of 0 more threads\n",
      "INFO - 00:46:15: EPOCH - 57 : training on 267015 raw words (121532 effective words) took 0.5s, 236463 effective words/s\n",
      "INFO - 00:46:15: worker thread finished; awaiting finish of 0 more threads\n",
      "INFO - 00:46:15: EPOCH - 58 : training on 267015 raw words (121455 effective words) took 0.5s, 239114 effective words/s\n",
      "INFO - 00:46:16: worker thread finished; awaiting finish of 0 more threads\n",
      "INFO - 00:46:16: EPOCH - 59 : training on 267015 raw words (121245 effective words) took 0.5s, 239599 effective words/s\n",
      "INFO - 00:46:16: worker thread finished; awaiting finish of 0 more threads\n",
      "INFO - 00:46:16: EPOCH - 60 : training on 267015 raw words (121361 effective words) took 0.5s, 242077 effective words/s\n",
      "INFO - 00:46:17: worker thread finished; awaiting finish of 0 more threads\n",
      "INFO - 00:46:17: EPOCH - 61 : training on 267015 raw words (121452 effective words) took 0.5s, 233845 effective words/s\n",
      "INFO - 00:46:18: worker thread finished; awaiting finish of 0 more threads\n",
      "INFO - 00:46:18: EPOCH - 62 : training on 267015 raw words (121238 effective words) took 0.5s, 235450 effective words/s\n",
      "INFO - 00:46:18: worker thread finished; awaiting finish of 0 more threads\n",
      "INFO - 00:46:18: EPOCH - 63 : training on 267015 raw words (121317 effective words) took 0.5s, 238380 effective words/s\n",
      "INFO - 00:46:19: worker thread finished; awaiting finish of 0 more threads\n",
      "INFO - 00:46:19: EPOCH - 64 : training on 267015 raw words (120998 effective words) took 0.5s, 238062 effective words/s\n",
      "INFO - 00:46:19: worker thread finished; awaiting finish of 0 more threads\n",
      "INFO - 00:46:19: EPOCH - 65 : training on 267015 raw words (121726 effective words) took 0.5s, 235951 effective words/s\n",
      "INFO - 00:46:20: worker thread finished; awaiting finish of 0 more threads\n",
      "INFO - 00:46:20: EPOCH - 66 : training on 267015 raw words (121693 effective words) took 0.5s, 239346 effective words/s\n",
      "INFO - 00:46:20: worker thread finished; awaiting finish of 0 more threads\n",
      "INFO - 00:46:20: EPOCH - 67 : training on 267015 raw words (121565 effective words) took 0.5s, 239413 effective words/s\n",
      "INFO - 00:46:21: worker thread finished; awaiting finish of 0 more threads\n",
      "INFO - 00:46:21: EPOCH - 68 : training on 267015 raw words (121831 effective words) took 0.5s, 236578 effective words/s\n",
      "INFO - 00:46:21: worker thread finished; awaiting finish of 0 more threads\n",
      "INFO - 00:46:21: EPOCH - 69 : training on 267015 raw words (121345 effective words) took 0.5s, 240055 effective words/s\n",
      "INFO - 00:46:22: worker thread finished; awaiting finish of 0 more threads\n",
      "INFO - 00:46:22: EPOCH - 70 : training on 267015 raw words (121506 effective words) took 0.5s, 236885 effective words/s\n",
      "INFO - 00:46:22: worker thread finished; awaiting finish of 0 more threads\n",
      "INFO - 00:46:22: EPOCH - 71 : training on 267015 raw words (121635 effective words) took 0.5s, 238360 effective words/s\n",
      "INFO - 00:46:23: worker thread finished; awaiting finish of 0 more threads\n",
      "INFO - 00:46:23: EPOCH - 72 : training on 267015 raw words (121341 effective words) took 0.5s, 234773 effective words/s\n",
      "INFO - 00:46:23: worker thread finished; awaiting finish of 0 more threads\n",
      "INFO - 00:46:23: EPOCH - 73 : training on 267015 raw words (121479 effective words) took 0.5s, 238055 effective words/s\n",
      "INFO - 00:46:24: worker thread finished; awaiting finish of 0 more threads\n",
      "INFO - 00:46:24: EPOCH - 74 : training on 267015 raw words (121373 effective words) took 0.5s, 237800 effective words/s\n",
      "INFO - 00:46:24: worker thread finished; awaiting finish of 0 more threads\n",
      "INFO - 00:46:24: EPOCH - 75 : training on 267015 raw words (121534 effective words) took 0.5s, 234669 effective words/s\n",
      "INFO - 00:46:25: worker thread finished; awaiting finish of 0 more threads\n",
      "INFO - 00:46:25: EPOCH - 76 : training on 267015 raw words (121358 effective words) took 0.5s, 236829 effective words/s\n",
      "INFO - 00:46:25: worker thread finished; awaiting finish of 0 more threads\n",
      "INFO - 00:46:25: EPOCH - 77 : training on 267015 raw words (121113 effective words) took 0.5s, 236751 effective words/s\n",
      "INFO - 00:46:26: worker thread finished; awaiting finish of 0 more threads\n",
      "INFO - 00:46:26: EPOCH - 78 : training on 267015 raw words (121502 effective words) took 0.5s, 239742 effective words/s\n",
      "INFO - 00:46:26: worker thread finished; awaiting finish of 0 more threads\n",
      "INFO - 00:46:26: EPOCH - 79 : training on 267015 raw words (121655 effective words) took 0.5s, 235862 effective words/s\n",
      "INFO - 00:46:27: worker thread finished; awaiting finish of 0 more threads\n",
      "INFO - 00:46:27: EPOCH - 80 : training on 267015 raw words (121664 effective words) took 0.5s, 232057 effective words/s\n",
      "INFO - 00:46:27: worker thread finished; awaiting finish of 0 more threads\n",
      "INFO - 00:46:27: EPOCH - 81 : training on 267015 raw words (121601 effective words) took 0.5s, 234480 effective words/s\n",
      "INFO - 00:46:28: worker thread finished; awaiting finish of 0 more threads\n",
      "INFO - 00:46:28: EPOCH - 82 : training on 267015 raw words (121353 effective words) took 0.5s, 234289 effective words/s\n",
      "INFO - 00:46:28: worker thread finished; awaiting finish of 0 more threads\n",
      "INFO - 00:46:28: EPOCH - 83 : training on 267015 raw words (121415 effective words) took 0.5s, 230604 effective words/s\n",
      "INFO - 00:46:29: worker thread finished; awaiting finish of 0 more threads\n",
      "INFO - 00:46:29: EPOCH - 84 : training on 267015 raw words (121398 effective words) took 0.5s, 233536 effective words/s\n"
     ]
    },
    {
     "name": "stderr",
     "output_type": "stream",
     "text": [
      "INFO - 00:46:29: worker thread finished; awaiting finish of 0 more threads\n",
      "INFO - 00:46:29: EPOCH - 85 : training on 267015 raw words (121742 effective words) took 0.5s, 234433 effective words/s\n",
      "INFO - 00:46:30: worker thread finished; awaiting finish of 0 more threads\n",
      "INFO - 00:46:30: EPOCH - 86 : training on 267015 raw words (121674 effective words) took 0.5s, 235689 effective words/s\n",
      "INFO - 00:46:30: worker thread finished; awaiting finish of 0 more threads\n",
      "INFO - 00:46:30: EPOCH - 87 : training on 267015 raw words (121488 effective words) took 0.5s, 236957 effective words/s\n",
      "INFO - 00:46:31: worker thread finished; awaiting finish of 0 more threads\n",
      "INFO - 00:46:31: EPOCH - 88 : training on 267015 raw words (121399 effective words) took 0.5s, 237858 effective words/s\n",
      "INFO - 00:46:32: worker thread finished; awaiting finish of 0 more threads\n",
      "INFO - 00:46:32: EPOCH - 89 : training on 267015 raw words (121518 effective words) took 0.5s, 238619 effective words/s\n",
      "INFO - 00:46:32: worker thread finished; awaiting finish of 0 more threads\n",
      "INFO - 00:46:32: EPOCH - 90 : training on 267015 raw words (121269 effective words) took 0.5s, 235636 effective words/s\n",
      "INFO - 00:46:33: worker thread finished; awaiting finish of 0 more threads\n",
      "INFO - 00:46:33: EPOCH - 91 : training on 267015 raw words (121540 effective words) took 0.5s, 236212 effective words/s\n",
      "INFO - 00:46:33: worker thread finished; awaiting finish of 0 more threads\n",
      "INFO - 00:46:33: EPOCH - 92 : training on 267015 raw words (121694 effective words) took 0.5s, 236631 effective words/s\n",
      "INFO - 00:46:34: worker thread finished; awaiting finish of 0 more threads\n",
      "INFO - 00:46:34: EPOCH - 93 : training on 267015 raw words (121278 effective words) took 0.5s, 237473 effective words/s\n",
      "INFO - 00:46:34: worker thread finished; awaiting finish of 0 more threads\n",
      "INFO - 00:46:34: EPOCH - 94 : training on 267015 raw words (121231 effective words) took 0.5s, 235777 effective words/s\n",
      "INFO - 00:46:35: worker thread finished; awaiting finish of 0 more threads\n",
      "INFO - 00:46:35: EPOCH - 95 : training on 267015 raw words (121598 effective words) took 0.5s, 234244 effective words/s\n",
      "INFO - 00:46:35: worker thread finished; awaiting finish of 0 more threads\n",
      "INFO - 00:46:35: EPOCH - 96 : training on 267015 raw words (121705 effective words) took 0.5s, 233561 effective words/s\n",
      "INFO - 00:46:36: worker thread finished; awaiting finish of 0 more threads\n",
      "INFO - 00:46:36: EPOCH - 97 : training on 267015 raw words (121430 effective words) took 0.5s, 236156 effective words/s\n",
      "INFO - 00:46:36: worker thread finished; awaiting finish of 0 more threads\n",
      "INFO - 00:46:36: EPOCH - 98 : training on 267015 raw words (121489 effective words) took 0.5s, 236174 effective words/s\n",
      "INFO - 00:46:37: worker thread finished; awaiting finish of 0 more threads\n",
      "INFO - 00:46:37: EPOCH - 99 : training on 267015 raw words (121564 effective words) took 0.5s, 231847 effective words/s\n",
      "INFO - 00:46:37: worker thread finished; awaiting finish of 0 more threads\n",
      "INFO - 00:46:37: EPOCH - 100 : training on 267015 raw words (121471 effective words) took 0.5s, 235180 effective words/s\n",
      "INFO - 00:46:37: training on a 26701500 raw words (12146555 effective words) took 52.4s, 231705 effective words/s\n",
      "INFO - 00:46:37: precomputing L2-norms of word weight vectors\n"
     ]
    }
   ],
   "source": [
    "w2v.train(new_lines, total_examples=w2v.corpus_count, epochs=w2v.epochs)\n",
    "w2v.init_sims()###your code ### "
   ]
  },
  {
   "cell_type": "markdown",
   "metadata": {},
   "source": [
    "### Subtask 3: Exploring the Model\n"
   ]
  },
  {
   "cell_type": "markdown",
   "metadata": {},
   "source": [
    "As mentioned in the lecture, word embeddings are suited for similarity and analogy tasks. Let's explore some of that with our dataset: \n",
    "\n",
    "We look for most similar words to the famous coffee shop where most of the episodes took place, namely `central_perk` and also one of the characters `joey`. If you have followed the exercise correctly until now, you should see that words like `laying` are similar to `central_perk` and the other main characters are also considered similar to `joey`.\n",
    "\n"
   ]
  },
  {
   "cell_type": "code",
   "execution_count": 11,
   "metadata": {},
   "outputs": [
    {
     "data": {
      "text/plain": [
       "[('chandler', 0.8690119385719299),\n",
       " ('monica', 0.7194095253944397),\n",
       " ('looks', 0.7176382541656494),\n",
       " ('rachel', 0.7165170907974243),\n",
       " ('sees', 0.7000544667243958),\n",
       " ('tighter', 0.6864305734634399),\n",
       " ('phoebe', 0.6842387914657593),\n",
       " ('tightly', 0.6841830015182495),\n",
       " ('sips', 0.6819998025894165),\n",
       " ('turns', 0.6686028838157654)]"
      ]
     },
     "execution_count": 11,
     "metadata": {},
     "output_type": "execute_result"
    }
   ],
   "source": [
    "###your code### \n",
    "w2v.wv.most_similar(\"joey\")"
   ]
  },
  {
   "cell_type": "code",
   "execution_count": 12,
   "metadata": {},
   "outputs": [
    {
     "data": {
      "text/plain": [
       "[('conan', 0.6422147750854492),\n",
       " ('recliner', 0.6405288577079773),\n",
       " ('sitting_couch', 0.6292109489440918),\n",
       " ('laying', 0.5807887315750122),\n",
       " ('dejectedly', 0.5762457847595215),\n",
       " ('staging', 0.5737579464912415),\n",
       " ('scene', 0.568637490272522),\n",
       " ('barr', 0.5504025220870972),\n",
       " ('baywatch', 0.5482625961303711),\n",
       " ('groundwork', 0.541438639163971)]"
      ]
     },
     "execution_count": 12,
     "metadata": {},
     "output_type": "execute_result"
    }
   ],
   "source": [
    "###your code### \n",
    "w2v.wv.most_similar(\"central_perk\")"
   ]
  },
  {
   "cell_type": "markdown",
   "metadata": {},
   "source": [
    "Look at the similarity of `mrs_green` to `rachel` (her mom) and `ross`  and `spaceship` (urelated). The first one should have a high and the second low score. Finally look at the similarity of `smelly_cat` ( a song from pheobe) and `song` the similarity should be high."
   ]
  },
  {
   "cell_type": "code",
   "execution_count": 13,
   "metadata": {},
   "outputs": [
    {
     "data": {
      "text/plain": [
       "0.60635513"
      ]
     },
     "execution_count": 13,
     "metadata": {},
     "output_type": "execute_result"
    }
   ],
   "source": [
    "###your code### \n",
    "w2v.wv.similarity(\"mrs_green\", \"rachel\")"
   ]
  },
  {
   "cell_type": "code",
   "execution_count": 14,
   "metadata": {},
   "outputs": [
    {
     "data": {
      "text/plain": [
       "-0.2464907"
      ]
     },
     "execution_count": 14,
     "metadata": {},
     "output_type": "execute_result"
    }
   ],
   "source": [
    "###your code### \n",
    "w2v.wv.similarity(\"ross\", \"spaceship\") "
   ]
  },
  {
   "cell_type": "code",
   "execution_count": 15,
   "metadata": {},
   "outputs": [
    {
     "data": {
      "text/plain": [
       "0.5560732"
      ]
     },
     "execution_count": 15,
     "metadata": {},
     "output_type": "execute_result"
    }
   ],
   "source": [
    "###your code### \n",
    "w2v.wv.similarity(\"smelly_cat\", \"song\")"
   ]
  },
  {
   "cell_type": "markdown",
   "metadata": {},
   "source": [
    "We can also ask our model to give us the word that does not belong to a list of words. Let's see from the list of all 5 characters which one is the most dissimilar? \n"
   ]
  },
  {
   "cell_type": "code",
   "execution_count": 16,
   "metadata": {},
   "outputs": [],
   "source": [
    "character_names= ['joey', 'rachel', 'phoebe','monica', 'chandler']"
   ]
  },
  {
   "cell_type": "code",
   "execution_count": 17,
   "metadata": {},
   "outputs": [
    {
     "name": "stderr",
     "output_type": "stream",
     "text": [
      "/Users/raymondzimmer/opt/anaconda3/lib/python3.7/site-packages/gensim/models/keyedvectors.py:877: FutureWarning: arrays to stack must be passed as a \"sequence\" type such as list or tuple. Support for non-sequence iterables such as generators is deprecated as of NumPy 1.16 and will raise an error in the future.\n",
      "  vectors = vstack(self.word_vec(word, use_norm=True) for word in used_words).astype(REAL)\n"
     ]
    },
    {
     "data": {
      "text/plain": [
       "'joey'"
      ]
     },
     "execution_count": 17,
     "metadata": {},
     "output_type": "execute_result"
    }
   ],
   "source": [
    "w2v.wv.doesnt_match(character_names)### your code### "
   ]
  },
  {
   "cell_type": "markdown",
   "metadata": {},
   "source": [
    "Based on the analogies, which word is to `rachel` as `man` is to `women`? (print the top 3); you should get `chandler` and `monica` among the answers."
   ]
  },
  {
   "cell_type": "code",
   "execution_count": 18,
   "metadata": {},
   "outputs": [
    {
     "data": {
      "text/plain": [
       "[('chandler', 0.6718174815177917),\n",
       " ('ross', 0.670436680316925),\n",
       " ('monica', 0.6683005094528198)]"
      ]
     },
     "execution_count": 18,
     "metadata": {},
     "output_type": "execute_result"
    }
   ],
   "source": [
    "w2v.wv.most_similar(positive=[\"rachel\", \"man\"], negative=[\"women\"], topn=3)### your code### "
   ]
  },
  {
   "cell_type": "markdown",
   "metadata": {},
   "source": [
    "Finally, lets use t-SNE to look at the distribution of our embeddings in the vector space for the character `joey`. Follow the instructions and fill in the blank in the `tsneplot` function."
   ]
  },
  {
   "cell_type": "code",
   "execution_count": 19,
   "metadata": {},
   "outputs": [],
   "source": [
    "import numpy as np\n",
    "import matplotlib.pyplot as plt\n",
    "%matplotlib inline\n",
    "import seaborn as sns\n",
    "import sys\n",
    "from sklearn.manifold import TSNE"
   ]
  },
  {
   "cell_type": "code",
   "execution_count": 20,
   "metadata": {},
   "outputs": [],
   "source": [
    "def tsneplot(model, word):\n",
    "    \"\"\" Plot in seaborn the results from the t-SNE dimensionality reduction for the top 10 most similar and dissimilar words\n",
    "    \"\"\"\n",
    "    embs = np.empty((0, 100), dtype='f')# to save all the embeddings\n",
    "    word_labels = [word]\n",
    "    color_list  = ['green']\n",
    "\n",
    "   \n",
    "    embs = np.append(embs, model.wv.__getitem__([word]), axis=0)# adds the vector of the query word\n",
    "    \n",
    "   \n",
    "    close_words = model.wv.most_similar([word]) # gets list of most similar words\n",
    "    # gets list of most dissimilar words (get the sorted list of all the words and their similarity and choose the bottom 10 )\n",
    "    all_sims = sorted(model.wv.most_similar([word], topn=len(model.wv.vocab)-1), key=lambda tup: tup[1])\n",
    "    far_words = all_sims[:10]\n",
    "    \n",
    "    # adds the vector for each of the closest words to the array\n",
    "    for wrd_score in close_words:\n",
    "        wrd_vector = model.wv[wrd_score[0]].reshape((1,100))  #get the vector \n",
    "        word_labels.append(wrd_score[0])\n",
    "        color_list.append('blue')\n",
    "        embs = np.append(embs, wrd_vector, axis=0)\n",
    "        \n",
    "    # adds the vector for each of the furthest words to the array\n",
    "    for wrd_score in far_words:\n",
    "        wrd_vector = model.wv[wrd_score[0]].reshape((1,100))  #get the vector \n",
    "        word_labels.append(wrd_score[0])\n",
    "        color_list.append('red')\n",
    "        embs = np.append(embs, wrd_vector, axis=0)\n",
    "    \n",
    "    np.set_printoptions(suppress=True)\n",
    "    Y = TSNE(n_components=2, random_state=42, perplexity=15).fit_transform(embs)\n",
    "    \n",
    "    print(Y.shape)\n",
    "    \n",
    "    # Sets everything up to plot\n",
    "    df = pd.DataFrame({'x': [x for x in Y[:, 0]],\n",
    "                       'y': [y for y in Y[:, 1]],\n",
    "                       'words': word_labels,\n",
    "                       'color': color_list})\n",
    "    \n",
    "    fig, _ = plt.subplots()\n",
    "    fig.set_size_inches(10, 10)\n",
    "    \n",
    "    # Basic plot\n",
    "    p1 = sns.regplot(data=df,\n",
    "                     x=\"x\",\n",
    "                     y=\"y\",\n",
    "                     fit_reg=False,\n",
    "                     marker=\"o\",\n",
    "                     scatter_kws={'s': 40,\n",
    "                                  'facecolors': df['color']\n",
    "                                 }\n",
    "                    )\n",
    "    \n",
    "    # adds annotations one by one with a loop\n",
    "    for line in range(0, df.shape[0]):\n",
    "         p1.text(df[\"x\"][line],\n",
    "                 df['y'][line],\n",
    "                 '  ' + df[\"words\"][line].title(),\n",
    "                 horizontalalignment='left',\n",
    "                 verticalalignment='bottom', size='medium',\n",
    "                 color=df['color'][line],\n",
    "                 weight='normal'\n",
    "                ).set_size(15)\n",
    "\n",
    "    \n",
    "    plt.xlim(Y[:, 0].min()-50, Y[:, 0].max()+50)\n",
    "    plt.ylim(Y[:, 1].min()-50, Y[:, 1].max()+50)\n",
    "            \n",
    "    plt.title('t-SNE visualization for {}'.format(word.title()))\n",
    "    "
   ]
  },
  {
   "cell_type": "code",
   "execution_count": 21,
   "metadata": {},
   "outputs": [
    {
     "name": "stdout",
     "output_type": "stream",
     "text": [
      "(21, 2)\n"
     ]
    },
    {
     "data": {
      "image/png": "[encoded data removed]",
      "text/plain": [
       "<Figure size 720x720 with 1 Axes>"
      ]
     },
     "metadata": {
      "needs_background": "light"
     },
     "output_type": "display_data"
    }
   ],
   "source": [
    "tsneplot(w2v, 'joey')"
   ]
  },
  {
   "cell_type": "markdown",
   "metadata": {},
   "source": [
    "## Task 2: Multi-class Classification ( 1+ 3 + 2 = 6 points)\n",
    "In this task, we aim to classify consumer finance complaints into 12 pre-defined classes. Note that this is not a multi-label task, and we assume that each new complaint is assigned to one and only one category. The data comes from https://www.data.gov/ (US government’s open data) and contains complaints that are published after the company responds, confirming a commercial relationship with the consumer, or after 15 days, whatever comes first.\n"
   ]
  },
  {
   "cell_type": "markdown",
   "metadata": {},
   "source": [
    "### Sub Task 1: Data Exploration"
   ]
  },
  {
   "cell_type": "markdown",
   "metadata": {},
   "source": [
    "Read the data to a pandas dataframe from `complaints.csv`; this is a rather large file of 206MB. Keep only the `Consumer complaint narrative` (input text) and `product`(labels). Remove the missing values, rename `Consumer complaint narrative` to `Narrative` for ease of use, and add a column encoding the product as an integer. This will represent your labels for classification and the mapping will be used later on. Create two dictionaries: one mapping the ids to products and one mapping products to their ids."
   ]
  },
  {
   "cell_type": "code",
   "execution_count": 22,
   "metadata": {},
   "outputs": [
    {
     "data": {
      "text/html": [
       "<div>\n",
       "<style scoped>\n",
       "    .dataframe tbody tr th:only-of-type {\n",
       "        vertical-align: middle;\n",
       "    }\n",
       "\n",
       "    .dataframe tbody tr th {\n",
       "        vertical-align: top;\n",
       "    }\n",
       "\n",
       "    .dataframe thead th {\n",
       "        text-align: right;\n",
       "    }\n",
       "</style>\n",
       "<table border=\"1\" class=\"dataframe\">\n",
       "  <thead>\n",
       "    <tr style=\"text-align: right;\">\n",
       "      <th></th>\n",
       "      <th>Narrative</th>\n",
       "      <th>Product</th>\n",
       "    </tr>\n",
       "  </thead>\n",
       "  <tbody>\n",
       "    <tr>\n",
       "      <th>0</th>\n",
       "      <td>NaN</td>\n",
       "      <td>Checking or savings account</td>\n",
       "    </tr>\n",
       "    <tr>\n",
       "      <th>1</th>\n",
       "      <td>I was sold access to an event digitally, of wh...</td>\n",
       "      <td>Money transfer, virtual currency, or money ser...</td>\n",
       "    </tr>\n",
       "    <tr>\n",
       "      <th>2</th>\n",
       "      <td>NaN</td>\n",
       "      <td>Vehicle loan or lease</td>\n",
       "    </tr>\n",
       "    <tr>\n",
       "      <th>3</th>\n",
       "      <td>NaN</td>\n",
       "      <td>Checking or savings account</td>\n",
       "    </tr>\n",
       "    <tr>\n",
       "      <th>4</th>\n",
       "      <td>NaN</td>\n",
       "      <td>Checking or savings account</td>\n",
       "    </tr>\n",
       "  </tbody>\n",
       "</table>\n",
       "</div>"
      ],
      "text/plain": [
       "                                           Narrative  \\\n",
       "0                                                NaN   \n",
       "1  I was sold access to an event digitally, of wh...   \n",
       "2                                                NaN   \n",
       "3                                                NaN   \n",
       "4                                                NaN   \n",
       "\n",
       "                                             Product  \n",
       "0                        Checking or savings account  \n",
       "1  Money transfer, virtual currency, or money ser...  \n",
       "2                              Vehicle loan or lease  \n",
       "3                        Checking or savings account  \n",
       "4                        Checking or savings account  "
      ]
     },
     "execution_count": 22,
     "metadata": {},
     "output_type": "execute_result"
    }
   ],
   "source": [
    "import pandas as pd\n",
    "from io import StringIO\n",
    "df = pd.read_csv(\"complaints.csv\") ###read the file ####\n",
    "df =  df[['Consumer complaint narrative','Product']] ###keep the columns you need ####\n",
    "df.columns = ['Narrative', 'Product'] ###rename columns ####\n",
    "df.head()"
   ]
  },
  {
   "cell_type": "code",
   "execution_count": 23,
   "metadata": {},
   "outputs": [
    {
     "data": {
      "text/html": [
       "<div>\n",
       "<style scoped>\n",
       "    .dataframe tbody tr th:only-of-type {\n",
       "        vertical-align: middle;\n",
       "    }\n",
       "\n",
       "    .dataframe tbody tr th {\n",
       "        vertical-align: top;\n",
       "    }\n",
       "\n",
       "    .dataframe thead th {\n",
       "        text-align: right;\n",
       "    }\n",
       "</style>\n",
       "<table border=\"1\" class=\"dataframe\">\n",
       "  <thead>\n",
       "    <tr style=\"text-align: right;\">\n",
       "      <th></th>\n",
       "      <th>Narrative</th>\n",
       "      <th>Product</th>\n",
       "      <th>product_id</th>\n",
       "    </tr>\n",
       "  </thead>\n",
       "  <tbody>\n",
       "    <tr>\n",
       "      <th>1</th>\n",
       "      <td>I was sold access to an event digitally, of wh...</td>\n",
       "      <td>Money transfer, virtual currency, or money ser...</td>\n",
       "      <td>5</td>\n",
       "    </tr>\n",
       "    <tr>\n",
       "      <th>5</th>\n",
       "      <td>I LEASED MY CAR ON XX/XX/XXXX AND MADE PAYMENT...</td>\n",
       "      <td>Vehicle loan or lease</td>\n",
       "      <td>12</td>\n",
       "    </tr>\n",
       "    <tr>\n",
       "      <th>6</th>\n",
       "      <td>My original lender was XXXX XXXX XXXX ; this l...</td>\n",
       "      <td>Student loan</td>\n",
       "      <td>11</td>\n",
       "    </tr>\n",
       "    <tr>\n",
       "      <th>8</th>\n",
       "      <td>I was misled by XXXX XXXX  and my degree did n...</td>\n",
       "      <td>Student loan</td>\n",
       "      <td>11</td>\n",
       "    </tr>\n",
       "    <tr>\n",
       "      <th>10</th>\n",
       "      <td>I purchased a vehicle 3 years ago. As of recen...</td>\n",
       "      <td>Vehicle loan or lease</td>\n",
       "      <td>12</td>\n",
       "    </tr>\n",
       "  </tbody>\n",
       "</table>\n",
       "</div>"
      ],
      "text/plain": [
       "                                            Narrative  \\\n",
       "1   I was sold access to an event digitally, of wh...   \n",
       "5   I LEASED MY CAR ON XX/XX/XXXX AND MADE PAYMENT...   \n",
       "6   My original lender was XXXX XXXX XXXX ; this l...   \n",
       "8   I was misled by XXXX XXXX  and my degree did n...   \n",
       "10  I purchased a vehicle 3 years ago. As of recen...   \n",
       "\n",
       "                                              Product  product_id  \n",
       "1   Money transfer, virtual currency, or money ser...           5  \n",
       "5                               Vehicle loan or lease          12  \n",
       "6                                        Student loan          11  \n",
       "8                                        Student loan          11  \n",
       "10                              Vehicle loan or lease          12  "
      ]
     },
     "execution_count": 23,
     "metadata": {},
     "output_type": "execute_result"
    }
   ],
   "source": [
    "df = df.dropna()### remove missing #### \n",
    "df['product_id'] = df.groupby('Product').ngroup()### integer ids for product ### \n",
    "### create the dictionary #### \n",
    "id2product = dict()\n",
    "product2id = dict()\n",
    "for _, row in df[['Product', 'product_id']].drop_duplicates().iterrows():\n",
    "    product2id[row['Product']] = row['product_id']\n",
    "    id2product[row['product_id']] = row['Product']\n",
    "df.head()"
   ]
  },
  {
   "cell_type": "markdown",
   "metadata": {},
   "source": [
    "Look at the class distribution of the products. It is always a good idea to look at the relative number of instances for each class before performing any classification task. Use the `plot` function from the dataframe to show the number of instances in each class in a histogram."
   ]
  },
  {
   "cell_type": "code",
   "execution_count": 24,
   "metadata": {
    "scrolled": true
   },
   "outputs": [
    {
     "data": {
      "text/plain": [
       "<Figure size 720x576 with 0 Axes>"
      ]
     },
     "metadata": {},
     "output_type": "display_data"
    },
    {
     "data": {
      "image/png": "[encoded data removed]",
      "text/plain": [
       "<Figure size 432x288 with 1 Axes>"
      ]
     },
     "metadata": {
      "needs_background": "light"
     },
     "output_type": "display_data"
    }
   ],
   "source": [
    "import matplotlib.pyplot as plt\n",
    "fig = plt.figure(figsize=(10,8))\n",
    "ax = df.plot.hist(by='product_id', bins=14)\n",
    "plt.show()"
   ]
  },
  {
   "cell_type": "markdown",
   "metadata": {},
   "source": [
    "If you have done the exercise correctly you should observe a class imbalance with `credit reporting` having the most complaints. This can result in some difficulties for standard algorithms, making them biased towards the majority class and treating the minority classes as outliers and unimportant. One way to overcome this problem is by using **undersampling** or **oversampling**. However, this is beyond the scope of this assignment."
   ]
  },
  {
   "cell_type": "markdown",
   "metadata": {},
   "source": [
    "### Sub Task 2: Text Representation and Training the Classifier \n",
    "Before performing any classification we need to split our data into train and test sets. Use `sklearn` to save 20 percent of the data for the test and the rest for training. Make sure to input the index of the data frame to retrieve the indices of the test and train. \n"
   ]
  },
  {
   "cell_type": "code",
   "execution_count": 25,
   "metadata": {},
   "outputs": [],
   "source": [
    "from sklearn.model_selection import train_test_split\n",
    "X_train, X_test, y_train, y_test, indices_train, indices_test = train_test_split(df['Narrative'].to_list(), df['product_id'].to_list(), df.index.to_list(), test_size=0.2)### your code ###"
   ]
  },
  {
   "cell_type": "markdown",
   "metadata": {},
   "source": [
    "To perform any sort of classification task, we first need to convert our raw text into some vector representation. Let's use the `TfidfVectorizer` from `sklearn` to convert the `narrative` column into TF-IDF vectors. When transforming the text keep the following in mind:\n",
    "- use the logarithmic form for frequency\n",
    "- remove accents (ASCII) \n",
    "- lowercase all characters \n",
    "- remove `English` stop words \n",
    "- ignore terms that have a document frequency strictly less than 10\n",
    "- smooth IDF weights by adding one to document frequencies \n",
    "- output row should have unit L2 norm\n",
    "- set the encoding to `Latin-1`\n",
    "- extract both uni-grams and bi-grams \n",
    "- build a vocabulary that only considers the top 10.000 features\n",
    "Keep in mind that the vectorizer should be trained **only** on the training data, and the test data should be transformed using the same model."
   ]
  },
  {
   "cell_type": "code",
   "execution_count": 26,
   "metadata": {},
   "outputs": [
    {
     "data": {
      "text/plain": [
       "(132647, 10000)"
      ]
     },
     "execution_count": 26,
     "metadata": {},
     "output_type": "execute_result"
    }
   ],
   "source": [
    "from sklearn.feature_extraction.text import TfidfVectorizer\n",
    "tfidf = TfidfVectorizer(\n",
    "    sublinear_tf = True,  #  replace tf with 1 + log(tf).\n",
    "    strip_accents = ascii,  # remove accent\n",
    "    lowercase = True,\n",
    "    stop_words = 'english',  # remove English stopwords\n",
    "    min_df = 10,  # ignore terms whose idf < 10\n",
    "    smooth_idf = True,\n",
    "    norm = 'l2',\n",
    "    encoding = 'Latin-1',\n",
    "    ngram_range = (1, 2),\n",
    "    max_features = 10000\n",
    ")\n",
    "\n",
    "    ###initlize the model ### \n",
    "X_train = tfidf.fit_transform(X_train)###transform text  ### \n",
    "X_train.shape # should be (132647, 10000) "
   ]
  },
  {
   "cell_type": "markdown",
   "metadata": {},
   "source": [
    "After the data transformation, we attain the features and labels, to train the classifier. In our case, we use **Naive Bayes Classifier**. \n",
    "- split the features and labels into training and test set (set the random state to 42) \n",
    "- use `MultinomialNB` from sklearn to classify the data "
   ]
  },
  {
   "cell_type": "code",
   "execution_count": 27,
   "metadata": {},
   "outputs": [
    {
     "data": {
      "text/plain": [
       "MultinomialNB(alpha=1.0, class_prior=None, fit_prior=True)"
      ]
     },
     "execution_count": 27,
     "metadata": {},
     "output_type": "execute_result"
    }
   ],
   "source": [
    "from sklearn.naive_bayes import MultinomialNB\n",
    "clf = MultinomialNB()### fit the model to the data ### \n",
    "clf.fit(X_train, y_train)"
   ]
  },
  {
   "cell_type": "markdown",
   "metadata": {},
   "source": [
    "### Sub Task 3: Model Evaluation  "
   ]
  },
  {
   "cell_type": "markdown",
   "metadata": {},
   "source": [
    "We evaluate our model using the held-out test data. We are going to look at the confusion matrix to show the performance of the model. "
   ]
  },
  {
   "cell_type": "code",
   "execution_count": 28,
   "metadata": {},
   "outputs": [
    {
     "name": "stderr",
     "output_type": "stream",
     "text": [
      "INFO - 00:47:34: NumExpr defaulting to 4 threads.\n"
     ]
    },
    {
     "data": {
      "image/png": "[encoded data removed]",
      "text/plain": [
       "<Figure size 720x720 with 2 Axes>"
      ]
     },
     "metadata": {
      "needs_background": "light"
     },
     "output_type": "display_data"
    }
   ],
   "source": [
    "from sklearn.metrics import confusion_matrix\n",
    "import seaborn as sns\n",
    "y_pred = clf.predict(tfidf.transform(X_test))### predict on the test set ### \n",
    "conf = confusion_matrix(y_test, y_pred, labels=[i for i in range(14)])### create the confusion matrix ### \n",
    "fig, ax = plt.subplots(figsize=(10,10))\n",
    "sns.heatmap(conf, annot=True, fmt='d',\n",
    "            xticklabels=[id2product[i] for i in range(14)], ###products names from the dictionary ###,\n",
    "            yticklabels=[id2product[i] for i in range(14)])### products names from the dictionary###)\n",
    "plt.ylabel('True Label')\n",
    "plt.xlabel('Predicted Label')\n",
    "plt.show()"
   ]
  },
  {
   "cell_type": "markdown",
   "metadata": {},
   "source": [
    "The majority of the predictions end up on the diagonal (predicted label = actual label). The diagonal shows the correct classified classes. However, there are several misclassifications, specifically `Checking or savings account` is often confused with `Bank account or service`. Let's take a look at why this happens. For this, we look at 5 misclassified examples."
   ]
  },
  {
   "cell_type": "code",
   "execution_count": 29,
   "metadata": {},
   "outputs": [
    {
     "data": {
      "text/plain": [
       "15856    I was charged {$20.00} for insufficient funds on XXXX/XXXX/2014 on my First Bank XXXX checking a...\n",
       "41555    This morning I went to Chase on XXXX XXXX XXXX, XXXX, Texas, XXXX, to make a credit card payment...\n",
       "41692    On XXXX/XXXX/2015 I went to Bank of America branch in XXXX XXXX, CT to close out my account. I t...\n",
       "44314    I own a XXXX wanted to transfer money from XXXX banks to Huntington so it was more convenient th...\n",
       "45054    My bank account was tied to my XXXX. My XXXX was hacked. We watched it as it happened, quickly c...\n",
       "46542    I went to the US Bank on XXXX XXXX XXXX XXXX, XXXX XXXX NV XXXX. XXXX XXXX was the teller that I...\n",
       "46647    My checking accounts at Trustmark Bank have been compromised. A great deal of money has been sto...\n",
       "48780    XXXX XXXX XXXX added an unknown female to my auto policy which cause my Comerica checking accoun...\n",
       "54909    On XXXX/17, I made a payment of {$760.00} for my credit card on the XXXX website. The funds were...\n",
       "57572    I 'm currently on XXXX somy funds are limited. The last month alone, Citizens has taken over {$3...\n",
       "Name: Narrative, dtype: object"
      ]
     },
     "execution_count": 29,
     "metadata": {},
     "output_type": "execute_result"
    }
   ],
   "source": [
    "actual='Bank account or service'\n",
    "predicted= 'Checking or savings account'\n",
    "### print only the top 10 \n",
    "df['Predict'] = df[df['Product']==actual]['Narrative'].apply(lambda text: id2product[int(clf.predict(tfidf.transform([text])))])\n",
    "pd.set_option('max_colwidth',100)\n",
    "df[(df['Product']==actual) & (df['Predict']==predicted)]['Narrative'].head(10)\n",
    "###choose the ones that have an actual label of Bank account or service and the predicted label of Checking or savings account ###)\n"
   ]
  },
  {
   "cell_type": "markdown",
   "metadata": {},
   "source": [
    "As you can see, some of the misclassified complaints are complaints that are not easy to distinguish. "
   ]
  },
  {
   "cell_type": "markdown",
   "metadata": {},
   "source": [
    "## Task 3: Auto-Complete ( 2 + 5 + 4 = 11 Points ) \n",
    "Let's get even more practical! In this problem set, you will build your own auto-completion system that you see every day while using search engines.\n",
    "\n",
    "[google]: https://www.thedad.com/wp-content/uploads/2018/05/screen-shot-2018-05-12-at-2-01-56-pm.png \"google auto complete\"\n",
    "\n",
    "![google]\n",
    "By the end of this assignment, you will develop a simple prototype of such a system using n-gram language models. At the heart of the system is a language model that assigns the probability to a sequence of words. We take advantage of this probability calculation to predict the next word. \n",
    "\n",
    "The problem set contains 3 main parts:\n",
    "\n",
    "1. Load and preprocess data (tokenize and split into train and test)\n",
    "2. Develop n-gram based language models by estimating the conditional probability of the next word.\n",
    "3. Evaluate the model by computing the perplexity score.\n"
   ]
  },
  {
   "cell_type": "markdown",
   "metadata": {},
   "source": [
    "### Sub Task 1: Load and Preprocess Data \n",
    "We use a subset of English tweets to train our model. Run the cell below to load the data and observe a few lines of it. Notice that tweets are saved in a text file, where tweets are separated by `\\n`"
   ]
  },
  {
   "cell_type": "code",
   "execution_count": 30,
   "metadata": {},
   "outputs": [
    {
     "name": "stdout",
     "output_type": "stream",
     "text": [
      "First 500 characters of the data:\n"
     ]
    },
    {
     "data": {
      "text/plain": [
       "\"How are you? Btw thanks for the RT. You gonna be in DC anytime soon? Love to see you. Been way, way too long.\\nWhen you meet someone special... you'll know. Your heart will beat more rapidly and you'll smile for no reason.\\nthey've decided its more fun if I don't.\\nSo Tired D; Played Lazer Tag & Ran A LOT D; Ughh Going To Sleep Like In 5 Minutes ;)\\nWords from a complete stranger! Made my birthday even better :)\\nFirst Cubs game ever! Wrigley field is gorgeous. This is perfect. Go Cubs Go!\\ni no! i ge\""
      ]
     },
     "metadata": {},
     "output_type": "display_data"
    },
    {
     "name": "stdout",
     "output_type": "stream",
     "text": [
      "-------\n"
     ]
    }
   ],
   "source": [
    "import math\n",
    "import random\n",
    "import numpy as np\n",
    "import spacy\n",
    "nlp = spacy.load(\"en_core_web_sm\", disable=[\"tagger\", \"parser\",\"ner\"])\n",
    "\n",
    "\n",
    "with open(\"twitter.txt\", \"r\") as f:\n",
    "    data = f.read()\n",
    "print(\"First 500 characters of the data:\")\n",
    "display(data[0:500])\n",
    "print(\"-------\")"
   ]
  },
  {
   "cell_type": "markdown",
   "metadata": {},
   "source": [
    "Now we need to separate the tweets and split them into train and test set. Apply the following pre-processing steps:\n",
    "\n",
    "1. Split data into sentences using \"\\n\" as the delimiter and remove the leading and trailing spaces (drop empty sentences)\n",
    "2. Tokenize the sentences into words using SpaCy and lowercase them. (notice that we do not remove stop words or punctuations.) \n",
    "3. Divide the sentences into 80 percent training and 20 percent test set. No validation set is required. Although in a real-world application it is best to set aside part of the data for hyperparameter tuning.\n",
    "4. To limit the vocabulary and remove potential spelling mistakes, make a vocabulary of the words that appear at least 2 times. The rest of the words will be replaced by the `<unk>` symbol. This is a crucial step since if your model encounters a word that it never saw during training, it won't have an input word that helps determining the next word for suggestion. We use the `<unk>` word for **out of Vocabulary (OOV)** words. Keep in mind that we built the vocabulary on the training data only."
   ]
  },
  {
   "cell_type": "code",
   "execution_count": 31,
   "metadata": {},
   "outputs": [],
   "source": [
    "sentences = data.split('\\n')#split\n",
    "# todo\n",
    "sentences = [sent for sent in sentences if len(sent)!=0] #remove spaces and drop empty sentences "
   ]
  },
  {
   "cell_type": "code",
   "execution_count": 32,
   "metadata": {},
   "outputs": [],
   "source": [
    "tokenized_corpus = [[token.text.lower() for token in nlp(sent)] for sent in sentences]# list of list of the tokens in a sentence "
   ]
  },
  {
   "cell_type": "code",
   "execution_count": 33,
   "metadata": {},
   "outputs": [],
   "source": [
    "from random import Random\n",
    "Random(4).shuffle(tokenized_corpus)\n",
    "\n",
    "train = tokenized_corpus[0:int(0.8* len(tokenized_corpus))]\n",
    "test = tokenized_corpus[int(0.8* len(tokenized_corpus)): len(tokenized_corpus)] ##Your Code###     "
   ]
  },
  {
   "cell_type": "code",
   "execution_count": 34,
   "metadata": {},
   "outputs": [
    {
     "name": "stdout",
     "output_type": "stream",
     "text": [
      "35123\n",
      "14861\n"
     ]
    }
   ],
   "source": [
    "from collections import Counter\n",
    "flatten_corpus = [token for token_list in train for token in token_list] ### Flatten the train corpus ### \n",
    "word_counts = Counter(flatten_corpus) ### count the number of each token ### \n",
    "print(len(word_counts))\n",
    "vocab = [token for token, freq in word_counts.items() if freq>=2]\n",
    "\n",
    "### keep only the ones with frequency bigger than 2 ### \n",
    "print(len(vocab)) ### should be 16930 ### \n",
    "train_replaced = []\n",
    "test_replaced = []\n",
    "for sentence in train:\n",
    "    ### adjust the sentence to contain the word in the vocabulary and <unk> for the rest #### \n",
    "    new_sent = []\n",
    "    for token in sentence:\n",
    "        if token in vocab:\n",
    "            new_sent.append(token)\n",
    "        else:\n",
    "            new_sent.append('<unk>')\n",
    "    train_replaced.append(new_sent)\n",
    "for sentence in test:\n",
    "    new_sent = []\n",
    "    for token in sentence:\n",
    "        if token in vocab:\n",
    "            new_sent.append(token)\n",
    "        else:\n",
    "            new_sent.append('<unk>')\n",
    "    test_replaced.append(new_sent)"
   ]
  },
  {
   "cell_type": "markdown",
   "metadata": {},
   "source": [
    "### Sub Task 2: N-gram Based Language Model: \n",
    "In this section, you will develop the n-grams language model. We assume that the probability of the next word depends only on the previous n-gram or previous n words. We compute this probability by counting the occurrences in the corpus.\n",
    "The conditional probability for the word at position 't' in the sentence, given that the words preceding it are $w_{t-1}, w_{t-2} \\cdots w_{t-n}$ can be estimated as follows:\n",
    "\n",
    "$$ \\hat{P}(w_t | w_{t-1}\\dots w_{t-n}) = \\frac{C(w_{t-1}\\dots w_{t-n}, w_n)}{C(w_{t-1}\\dots w_{t-n})}  $$\n",
    "\n",
    "The numerator is the number of times word 't' appears after the n-gram, and the denominator is the number of times the n-gram occurs in the corpus, where $C(\\cdots)$ is a count function. Later, we add k-smoothing to avoid errors when any counts are zero."
   ]
  },
  {
   "cell_type": "markdown",
   "metadata": {},
   "source": [
    "To tackle the problem of probability estimation we divide the problem into 3 parts. In the following you will: \n",
    "1. Implement a function that computes the counts of n-grams for an arbitrary number n.\n",
    "2. Estimate the probability of a word given the prior n-words using the n-gram counts.\n",
    "3. Calculate probabilities for all possible words.\n",
    "4. Create a probability matrix. \n",
    "The steps are detailed below. "
   ]
  },
  {
   "cell_type": "markdown",
   "metadata": {},
   "source": [
    "Let's start by implementing a function that computes the counts of n-grams for an arbitrary number n.\n",
    "- Prepend necessary starting markers `<s>` to indicate the beginning of the sentence. In the case of a bi-gram model, you need to prepend two start tokens `<s><s>` to be able to predict the first word. \"hello world\"-> \"`<s><s>`hello world\".\n",
    "- Append an end token `<e>` so that the model can predict when to finish a sentence.\n",
    "- Create a dictionary to store all the n_gram counts."
   ]
  },
  {
   "cell_type": "code",
   "execution_count": 35,
   "metadata": {},
   "outputs": [],
   "source": [
    "def n_grams_counts(corpus, n):\n",
    "    \"\"\"\n",
    "    Count all n-grams in the corpus given the parameter n \n",
    "    \n",
    "    data: List of lists of words (your tokenized corpus)\n",
    "    n: n in the n-gram\n",
    "    \n",
    "    Returns: A dictionary that maps a tuple of n words to its frequency\n",
    "    \"\"\"\n",
    "    start_token='<s>'\n",
    "    end_token = '<e>'\n",
    "    n_grams = defaultdict(int)\n",
    "    for sentence in corpus: \n",
    "        sentence = [start_token for i in range(n)] + sentence + [end_token]### add start and end token ###\n",
    "        # convert list to tuple so it can be used a the key in the dictionary \n",
    "        sentence = tuple(sentence)\n",
    "        \n",
    "        ###iterate over the n-grams in the sentence, you can use the range() function, and increament the counts in the\n",
    "        ## n_grams dictionary, where the key is the n_gram and the value is count \n",
    "        for start in range(len(sentence)-n+1):\n",
    "            n_gram_tup = sentence[start: start+n]\n",
    "#             print(n_gram_tup)\n",
    "            if n_gram_tup in n_grams:\n",
    "                n_grams[n_gram_tup] += 1\n",
    "            else:\n",
    "                n_grams[n_gram_tup] = 1\n",
    "        \n",
    "    return n_grams"
   ]
  },
  {
   "cell_type": "markdown",
   "metadata": {},
   "source": [
    "The next step is to estimate the probability of a word given the prior n words using the n-gram counts, based on the formula given at the beginning of this task. To deal with the problem of zero division we add k-smoothing. K-smoothing adds a positive constant $k$ to each numerator and $k \\times |vocabulary size|$ in the denominator. Below we will define a function that takes in a dictionary `n_gram_cnt`, where the key is the n-gram, and the value is the count of that n-gram, plus a dictionary for `plus_current_gram_cnt`, which you'll use to find the count for the previous n-gram plus the current word. Notice that these dictionaries are computed using the previous function `n_grams_counts`.\n"
   ]
  },
  {
   "cell_type": "code",
   "execution_count": 36,
   "metadata": {},
   "outputs": [],
   "source": [
    "def probability(word, prev_n_gram, \n",
    "                         n_gram_cnts, n_plus1_gram_cnts, vocab_size):\n",
    "    \"\"\"\n",
    "    Estimate the probabilities of a next word using the n-gram counts with k-smoothing\n",
    "    word: next word\n",
    "    prev_n_gram: previous n gram\n",
    "    n_gram_cnts: dictionary of counts of n-grams\n",
    "    plus_current_gram_cnts: dictionary of counts of (n+1)-grams -> current word+ n-gram = (n+1)-gram\n",
    "    vocab_size: number of words in the vocabulary\n",
    "    \n",
    "    Returns: A probability\n",
    "    \"\"\"\n",
    "    k=1.0\n",
    "    prev_n_gram = tuple(prev_n_gram)\n",
    "    \n",
    "    prev_n_gram_cnt =  n_gram_cnts[prev_n_gram]  # get the previous n-gram count from the dictionary \n",
    "    denominator = prev_n_gram_cnt + k*vocab_size  # denominator with the previous n-gram count and k-smoothing\n",
    "    n_plus1_gram =  prev_n_gram + tuple((word,))  # add the current word to the n-gram \n",
    "    n_plus1_gram_cnt =  n_plus1_gram_cnts[n_plus1_gram]  # get the current n-gram count using the dictionary\n",
    "    numerator = n_plus1_gram_cnt + k  #calculate the numerator with k-smoothing\n",
    "    prob = numerator/denominator\n",
    "    \n",
    "    # debug\n",
    "#     print(n_plus1_gram_cnts)\n",
    "#     print(word, prev_n_gram, n_plus1_gram)\n",
    "#     print(prev_n_gram_cnt, n_plus1_gram_cnt)\n",
    "#     print(numerator, denominator, prob)\n",
    "    \n",
    "    return prob\n",
    "#     return n_plus1_gram_cnt/prev_n_gram_cnt"
   ]
  },
  {
   "cell_type": "markdown",
   "metadata": {},
   "source": [
    "Let's use the functions we have defined to calculate probabilities for all possible words.\n"
   ]
  },
  {
   "cell_type": "code",
   "execution_count": 37,
   "metadata": {},
   "outputs": [],
   "source": [
    "def probabilities(prev_n_gram, n_gram_cnts, plus_current_gram_cnts, vocab):\n",
    "    \"\"\"\n",
    "    Estimate the probabilities for all the words in the vocabulary given the previous n-gram \n",
    "    prev_n_gram: previous n-gram\n",
    "    n_gram_cnts: dictionary of counts of n-grams\n",
    "    plus_current_gram_cntsplus_current_gram_cnt: dictionary of counts of (n+1)-grams -> current word+ n-gram = (n+1)-gram\n",
    "    vocab: List of words\n",
    "    \n",
    "    Returns: A dictionary mapping from next words to the probability.\n",
    "    \"\"\"\n",
    "    prev_n_gram = tuple(prev_n_gram)\n",
    "    \n",
    "    vocab = vocab + ['<e>', 'unk']  # add <e> <unk> to the vocabulary\n",
    "    vocabulary_size = len(vocab)  #compute the size \n",
    "    \n",
    "    probabilities = {}\n",
    "    for word in vocab:\n",
    "        ### compute the probability\n",
    "        probabilities[word] = probability(word, prev_n_gram, n_gram_cnts, plus_current_gram_cnts, vocabulary_size)\n",
    "    return probabilities"
   ]
  },
  {
   "cell_type": "code",
   "execution_count": 38,
   "metadata": {},
   "outputs": [
    {
     "name": "stdout",
     "output_type": "stream",
     "text": [
      "The word 'moon' should have the highest probability, if it is not the case, re-visit your previous functions.\n"
     ]
    },
    {
     "data": {
      "text/plain": [
       "{'tonight': 0.05263157894736842,\n",
       " 'mars': 0.05263157894736842,\n",
       " 'and': 0.05263157894736842,\n",
       " 'are': 0.05263157894736842,\n",
       " 'shining': 0.05263157894736842,\n",
       " 'bright': 0.05263157894736842,\n",
       " 'is': 0.05263157894736842,\n",
       " 'shinnig': 0.05263157894736842,\n",
       " 'plants': 0.05263157894736842,\n",
       " 'moon': 0.21052631578947367,\n",
       " 'stars': 0.05263157894736842,\n",
       " 'plant': 0.05263157894736842,\n",
       " 'a': 0.05263157894736842,\n",
       " 'the': 0.05263157894736842,\n",
       " '<e>': 0.05263157894736842,\n",
       " 'unk': 0.05263157894736842}"
      ]
     },
     "execution_count": 38,
     "metadata": {},
     "output_type": "execute_result"
    }
   ],
   "source": [
    "# Predict the probability of the all possible words after the unigram \"the\"\n",
    "sentences = [['the', 'moon', 'and', 'stars', 'are','shining','bright'],\n",
    "             ['the', 'moon', 'is', 'shinnig','tonight'],\n",
    "             ['mars','and' ,'moon', 'are', 'plants'],\n",
    "             ['the' ,'moon', 'is','a', 'plant']]\n",
    "unique_words = list(set(sentences[0] + sentences[1] + sentences[2]+ sentences[3]))\n",
    "unigram_counts = n_grams_counts(sentences, 1)\n",
    "bigram_counts = n_grams_counts(sentences, 2)\n",
    "print(\"The word 'moon' should have the highest probability, if it is not the case, re-visit your previous functions.\")\n",
    "probabilities([\"the\"], unigram_counts, bigram_counts, unique_words)\n"
   ]
  },
  {
   "cell_type": "markdown",
   "metadata": {},
   "source": [
    "## Sub Task 3: Evaluation "
   ]
  },
  {
   "cell_type": "markdown",
   "metadata": {},
   "source": [
    "In this section we use the perplexity score to evaluate your model on the test set.\n",
    "the perplexity score of the test set on an n-gram model, is denoted as follows: \n",
    "\n",
    "$$ PP(W) =\\sqrt[N]{ \\prod_{t=n}^{N-1} \\frac{1}{P(w_t | w_{t-n} \\cdots w_{t-1})} } $$\n",
    "- where $N$ is the length of the sentence. ($N-1$ is used because in the code we start from the index 0).\n",
    "- $n$ is the number of words in the n-gram.\n",
    "\n",
    "Notice that we have already computed this probability. \n",
    "\n",
    "The higher the probabilities are, the lower the perplexity will be. "
   ]
  },
  {
   "cell_type": "code",
   "execution_count": 39,
   "metadata": {},
   "outputs": [],
   "source": [
    "def perplexity(sentence, n_gram_cnts, plus_current_gram_cnts, vocab_size, k=1.0):\n",
    "    \"\"\"\n",
    "    Calculate perplexity for a list of sentences\n",
    "    sentence: List of strings\n",
    "    n_gram_cnts: dictionary of counts of n-grams\n",
    "    plus_current_gram_cnts: dictionary of counts of (n+1)-grams -> current word+ n-gram = (n+1)-gram\n",
    "    vocab_size: number of unique words in the vocabulary\n",
    "    k: positive smoothing constant\n",
    "    \n",
    "    Returns: Perplexity score for a single sentence \n",
    "    \"\"\"\n",
    "    \n",
    "    n =  len([key for key in n_gram_cnts.keys()][0])# get the number 'n' in  n-gram  from n_gram_cnts  \n",
    "#     print(n)\n",
    "    \n",
    "    sentence = ['<s>' for _ in range(n)] + sentence + ['<e>']  # prepend <s> and append <e>\n",
    "    sentence = tuple(sentence)\n",
    "    N = len(sentence)  # length of sentence \n",
    "    \n",
    "#     print(sentence)\n",
    "    \n",
    "   \n",
    "    product_pi = 1.0 \n",
    "    \n",
    "    ### Compute the product of probabilites ###\n",
    "    \n",
    "    for t in range(n, N): \n",
    "        n_gram = sentence[t-n: t]# get the n-gram before the predicted word (n-gram before t )\n",
    "        word =  sentence[t] # get the word to be predicted (position t)\n",
    "#         print(\"****************\")\n",
    "#         print(n_gram, word)\n",
    "        prob = probability(word, n_gram, n_gram_cnts, plus_current_gram_cnts, vocab_size)\n",
    "        product_pi *= 1/prob  # Update the product of the probabilities\n",
    "#         print(prob)\n",
    "#     print(N, product_pi)\n",
    "    perplexity = product_pi**(1/float(N)) # Take the Nth root of the product\n",
    "    return perplexity"
   ]
  },
  {
   "cell_type": "markdown",
   "metadata": {},
   "source": [
    "Use the function to find the perplexity of a bi-gram model on the first instance of training and test set."
   ]
  },
  {
   "cell_type": "code",
   "execution_count": 40,
   "metadata": {},
   "outputs": [
    {
     "name": "stdout",
     "output_type": "stream",
     "text": [
      "Perplexity for first train sample: 138.8764\n",
      "Perplexity for test sample: 2628.6091\n"
     ]
    }
   ],
   "source": [
    "bigram_counts = n_grams_counts(train_replaced, 2)  ### your code ###\n",
    "trigram_counts = n_grams_counts(train_replaced, 3)  ### your code ###\n",
    "\n",
    "perplexity_train = perplexity(train_replaced[0],bigram_counts, trigram_counts,len(vocab))\n",
    "print(f\"Perplexity for first train sample: {perplexity_train:.4f}\")\n",
    "\n",
    "perplexity_test = perplexity(test_replaced[0],bigram_counts, trigram_counts,len(vocab))\n",
    "print(f\"Perplexity for test sample: {perplexity_test:.4f}\")# the preprexity for the train sample should be much lower "
   ]
  },
  {
   "cell_type": "markdown",
   "metadata": {},
   "source": [
    "Finally, let's use the model we created to generate an auto-complete system that makes suggestions."
   ]
  },
  {
   "cell_type": "code",
   "execution_count": 41,
   "metadata": {},
   "outputs": [],
   "source": [
    "def suggest_a_word(up_to_here, n_gram_cnts, plus_current_gram_cnts, vocab , start_with=None):\n",
    "    \"\"\"\n",
    "    Get suggestion for the next word\n",
    "    up_to_here: the sentence so far, must have length > n \n",
    "    n_gram_cnts: dictionary of counts of n-grams\n",
    "    plus_current_gram_cnts: dictionary of counts of (n+1)-grams -> current word+ n-gram = (n+1)-gram\n",
    "    vocab: List of words\n",
    "    start_with: If not None, specifies the first few letters of the next word\n",
    "        \n",
    "    Returns: (most likely next word,  probability) \n",
    "    \"\"\"    \n",
    "    n = len(list(n_gram_cnts.keys())[0]) # get the number 'n' in  n-gram  from n_gram_cnts     \n",
    "    previous_n_gram = up_to_here[-n:] # get the last 'n' words as the previous n-gram from the input sentence\n",
    "\n",
    "    \n",
    "    probabs = probabilities(previous_n_gram, n_gram_cnts, plus_current_gram_cnts, vocab)# Estimate the probabilities for each word in the vocabulary\n",
    "    \n",
    "    probabs = sorted(probabs.items(), key=lambda kv: kv[1], reverse=True)\n",
    "    ### sort the probability for higher to lower and return the highest probability word,probability tuple\n",
    "    #if start_with is specified then return the highest probability word that starts with that specific character \n",
    "    if start_with == None:\n",
    "        return probabs[0]\n",
    "    else:\n",
    "        for word, prob in probabs:\n",
    "            if word[0: len(start_with)] == start_with:\n",
    "                return word, prob\n",
    "            else:\n",
    "                continue\n"
   ]
  },
  {
   "cell_type": "markdown",
   "metadata": {},
   "source": [
    "Test your model based on the bi-gram model created on the training corpus."
   ]
  },
  {
   "cell_type": "code",
   "execution_count": 42,
   "metadata": {},
   "outputs": [
    {
     "data": {
      "text/plain": [
       "('going', 0.00013324450366422385)"
      ]
     },
     "execution_count": 42,
     "metadata": {},
     "output_type": "execute_result"
    }
   ],
   "source": [
    "previous_tokens=['i','like']\n",
    "start_with='g'\n",
    "suggestion = suggest_a_word(previous_tokens, bigram_counts,trigram_counts, list(vocab),start_with=start_with)\n",
    "suggestion"
   ]
  },
  {
   "cell_type": "code",
   "execution_count": 43,
   "metadata": {},
   "outputs": [
    {
     "data": {
      "text/plain": [
       "('see', 0.0006017249448418801)"
      ]
     },
     "execution_count": 43,
     "metadata": {},
     "output_type": "execute_result"
    }
   ],
   "source": [
    "previous_tokens=['i','like','to']\n",
    "start_with=None\n",
    "suggestion = suggest_a_word(previous_tokens, bigram_counts,trigram_counts, list(vocab),start_with=start_with)\n",
    "suggestion"
   ]
  },
  {
   "cell_type": "code",
   "execution_count": 44,
   "metadata": {},
   "outputs": [
    {
     "data": {
      "text/plain": [
       "('riley', 0.00020153164046755341)"
      ]
     },
     "execution_count": 44,
     "metadata": {},
     "output_type": "execute_result"
    }
   ],
   "source": [
    "previous_tokens=[\"hello\", \"my\", \"name\", \"is\"]\n",
    "start_with=None\n",
    "suggestion = suggest_a_word(previous_tokens, bigram_counts,trigram_counts, list(vocab),start_with=start_with)\n",
    "suggestion"
   ]
  },
  {
   "cell_type": "code",
   "execution_count": 45,
   "metadata": {},
   "outputs": [
    {
     "data": {
      "text/plain": [
       "('safe', 6.717721348918447e-05)"
      ]
     },
     "execution_count": 45,
     "metadata": {},
     "output_type": "execute_result"
    }
   ],
   "source": [
    "previous_tokens=[\"hello\", \"my\", \"name\", \"is\"]\n",
    "start_with='sa'\n",
    "suggestion = suggest_a_word(previous_tokens, bigram_counts,trigram_counts, list(vocab),start_with=start_with)\n",
    "suggestion"
   ]
  },
  {
   "cell_type": "markdown",
   "metadata": {},
   "source": [
    "## Task 4: Theoretical Questions ( 1 +1 +1 +1 + 1 = 5 Points) \n"
   ]
  },
  {
   "cell_type": "markdown",
   "metadata": {},
   "source": [
    "Please answer the following questions in the notebook cells using markdown, try to be percise and short. "
   ]
  },
  {
   "cell_type": "markdown",
   "metadata": {},
   "source": [
    "### Sub Task 1: What is the goal of Word2Veec? / What is a word embedding?"
   ]
  },
  {
   "cell_type": "markdown",
   "metadata": {},
   "source": []
  },
  {
   "cell_type": "markdown",
   "metadata": {},
   "source": [
    "<<< your answer >>>"
   ]
  },
  {
   "cell_type": "markdown",
   "metadata": {},
   "source": [
    "### Sub Task 2: For gradient descent, what advantage has a decaying learning rate?"
   ]
  },
  {
   "cell_type": "markdown",
   "metadata": {},
   "source": []
  },
  {
   "cell_type": "markdown",
   "metadata": {},
   "source": [
    "<<< your answer >>>"
   ]
  },
  {
   "cell_type": "markdown",
   "metadata": {},
   "source": [
    "### Sub Task 3: Why is it easier to maximize the log likelihood instead of the \"normal\" likelihood?"
   ]
  },
  {
   "cell_type": "markdown",
   "metadata": {},
   "source": []
  },
  {
   "cell_type": "markdown",
   "metadata": {},
   "source": [
    "<<< your answer >>>"
   ]
  },
  {
   "cell_type": "markdown",
   "metadata": {},
   "source": [
    "### Sub Task 4: Word2Vec trains a complete neural network. How do we extract word embeddings from this network?"
   ]
  },
  {
   "cell_type": "markdown",
   "metadata": {},
   "source": []
  },
  {
   "cell_type": "markdown",
   "metadata": {},
   "source": [
    "<<< your answer >>>\n"
   ]
  },
  {
   "cell_type": "markdown",
   "metadata": {},
   "source": [
    "### Sub Task 5: What advantages has fastText over Word2Vec? "
   ]
  },
  {
   "cell_type": "markdown",
   "metadata": {},
   "source": []
  },
  {
   "cell_type": "markdown",
   "metadata": {},
   "source": [
    "<<< your answer >>>\n"
   ]
  },
  {
   "cell_type": "code",
   "execution_count": null,
   "metadata": {},
   "outputs": [],
   "source": []
  }
 ],
 "metadata": {
  "kernelspec": {
   "display_name": "Python 3",
   "language": "python",
   "name": "python3"
  },
  "language_info": {
   "codemirror_mode": {
    "name": "ipython",
    "version": 3
   },
   "file_extension": ".py",
   "mimetype": "text/x-python",
   "name": "python",
   "nbconvert_exporter": "python",
   "pygments_lexer": "ipython3",
   "version": "3.7.6"
  }
 },
 "nbformat": 4,
 "nbformat_minor": 2
}
